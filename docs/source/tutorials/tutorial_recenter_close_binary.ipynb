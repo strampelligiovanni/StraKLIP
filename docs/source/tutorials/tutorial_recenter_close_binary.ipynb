{
 "cells": [
  {
   "metadata": {},
   "cell_type": "markdown",
   "source": "# Tutorial: Recenter Close Binaries",
   "id": "e5c182b614b27c7"
  },
  {
   "metadata": {
    "collapsed": true
   },
   "cell_type": "code",
   "outputs": [],
   "execution_count": null,
   "source": [
    "%matplotlib inline\n",
    "%load_ext autoreload\n",
    "%autoreload 2\n",
    "from IPython.core.display import display, HTML\n",
    "display(HTML(\"<style>.container { width:100% !important; }</style>\"))\n",
    "from datetime import datetime\n",
    "import config, input_tables\n",
    "from astropy.io import fits\n",
    "from straklip.tiles import Tile\n"
   ],
   "id": "initial_id"
  },
  {
   "cell_type": "code",
   "outputs": [],
   "source": [
    "pipe_cfg='/Users/gstrampelli/PycharmProjects/Giovanni/work/pipeline_logs/FFP/pipe.yaml'\n",
    "data_cfg='/Users/gstrampelli/PycharmProjects/Giovanni/work/pipeline_logs/FFP/data.yaml'"
   ],
   "metadata": {
    "collapsed": false
   },
   "id": "ea18e004e16e7785",
   "execution_count": null
  },
  {
   "cell_type": "code",
   "outputs": [],
   "source": [
    "pipe_cfg = config.configure_pipeline(pipe_cfg,pipe_cfg=pipe_cfg,data_cfg=data_cfg,dt_string=datetime.now().strftime(\"%d/%m/%Y %H:%M:%S\"))\n",
    "data_cfg = config.configure_data(data_cfg,pipe_cfg)\n",
    "\n",
    "dataset = input_tables.Tables(data_cfg, pipe_cfg)\n",
    "DF = config.configure_dataframe(dataset,load=True)"
   ],
   "metadata": {
    "collapsed": false
   },
   "id": "f7cff3792e7b628b",
   "execution_count": null
  },
  {
   "cell_type": "code",
   "outputs": [],
   "source": [
    "DF.mvs_targets_df.loc[DF.mvs_targets_df.mvs_ids==211,'x_f814w']=765.380149+1\n",
    "DF.mvs_targets_df.loc[DF.mvs_targets_df.mvs_ids==211,'y_f814w']=810.062673-1\n",
    "DF.mvs_targets_df.loc[DF.mvs_targets_df.mvs_ids==211,'x_f850lp']=765.073439+1\n",
    "DF.mvs_targets_df.loc[DF.mvs_targets_df.mvs_ids==211,'y_f850lp']=810.5119-1"
   ],
   "metadata": {
    "collapsed": false
   },
   "id": "539a14bb1327d9c",
   "execution_count": 0
  },
  {
   "cell_type": "code",
   "outputs": [],
   "source": [
    "path2fits='/Users/gstrampelli/PycharmProjects/Giovanni/work/data/FFP/fits/iexn54coq_flc.fits'\n",
    "filter='f814w'\n",
    "hdul = fits.open(path2fits)\n",
    "SCI = hdul[1].data\n",
    "hdul.close()\n",
    "x, y = DF.mvs_targets_df.loc[DF.mvs_targets_df.mvs_ids==211, [f'x_{filter}'.lower(), f'y_{filter}'.lower()]].values[0]\n",
    "DATA = Tile(data=SCI, x=x, y=y, tile_base=11, delta=0, inst='WFC3', Python_origin=False)\n",
    "DATA.mk_tile(pad_data=True, legend=False, showplot=True, verbose=False, kill_plots=True, cbar=True,\n",
    "             return_tile=False)"
   ],
   "metadata": {
    "collapsed": false
   },
   "id": "15ed81632a1e262b",
   "execution_count": 0
  },
  {
   "cell_type": "code",
   "outputs": [],
   "source": [
    "path2fits='/Users/gstrampelli/PycharmProjects/Giovanni/work/data/FFP/fits/iexn54csq_flc.fits'\n",
    "filter='f850lp'\n",
    "hdul = fits.open(path2fits)\n",
    "SCI = hdul[1].data\n",
    "hdul.close()\n",
    "x, y = DF.mvs_targets_df.loc[DF.mvs_targets_df.mvs_ids==211, [f'x_{filter}'.lower(), f'y_{filter}'.lower()]].values[0]\n",
    "DATA = Tile(data=SCI, x=x, y=y, tile_base=11, delta=0, inst='WFC3', Python_origin=False)\n",
    "DATA.mk_tile(pad_data=True, legend=False, showplot=True, verbose=False, kill_plots=True, cbar=True,\n",
    "             return_tile=False)"
   ],
   "metadata": {
    "collapsed": false
   },
   "id": "f764656491f8ffae",
   "execution_count": 0
  },
  {
   "cell_type": "code",
   "outputs": [],
   "source": [
    "DF.save_dataframes('mvs_targets')"
   ],
   "metadata": {
    "collapsed": false
   },
   "id": "d9b514f978877751",
   "execution_count": 0
  }
 ],
 "metadata": {
  "kernelspec": {
   "display_name": "Python 3",
   "language": "python",
   "name": "python3"
  },
  "language_info": {
   "codemirror_mode": {
    "name": "ipython",
    "version": 2
   },
   "file_extension": ".py",
   "mimetype": "text/x-python",
   "name": "python",
   "nbconvert_exporter": "python",
   "pygments_lexer": "ipython2",
   "version": "2.7.6"
  }
 },
 "nbformat": 4,
 "nbformat_minor": 5
}
