{
 "cells": [
  {
   "cell_type": "code",
   "execution_count": null,
   "id": "7989c323c0c2038d",
   "metadata": {
    "ExecuteTime": {
     "end_time": "2024-02-20T19:25:57.377867Z",
     "start_time": "2024-02-20T19:25:55.725042Z"
    }
   },
   "outputs": [],
   "source": [
    "%matplotlib inline\n",
    "%load_ext autoreload\n",
    "%autoreload 2\n",
    "from IPython.core.display import display, HTML\n",
    "display(HTML(\"<style>.container { width:100% !important; }</style>\"))\n",
    "import sys,os,warnings,glob\n",
    "sys.path.append('/Users/gstrampelli/PycharmProjects/Giovanni/src/StraKLIP/straklip')\n",
    "sys.path.append('/Users/gstrampelli/PycharmProjects/Giovanni/src/StraKLIP/straklip/utils')\n",
    "sys.path.append('/Users/gstrampelli/PycharmProjects/Giovanni/pyklip/pyklip')\n",
    "sys.path.append('/Users/gstrampelli/PycharmProjects/Giovanni/src/StraKLIP/straklip/steps')\n",
    "sys.path.append('/Users/gstrampelli/PycharmProjects/Giovanni/src/StraKLIP/straklip/')\n",
    "from showroom import ShowRoom\n",
    "from datetime import datetime\n",
    "import config, input_tables\n",
    "import matplotlib.pylab as plt\n",
    "import numpy as np\n",
    "from dataframe import DataFrame\n",
    "from astropy.io import fits\n",
    "from tiles import Tile\n"
   ]
  },
  {
   "cell_type": "code",
   "execution_count": null,
   "id": "initial_id",
   "metadata": {
    "ExecuteTime": {
     "end_time": "2024-02-20T19:25:59.439409Z",
     "start_time": "2024-02-20T19:25:58.868514Z"
    }
   },
   "outputs": [],
   "source": [
    "pipe_cfg='/Users/gstrampelli/PycharmProjects/Giovanni/work/pipeline_logs/FFP/pipe.yaml'\n",
    "data_cfg='/Users/gstrampelli/PycharmProjects/Giovanni/work/pipeline_logs/FFP/data.yaml'"
   ]
  },
  {
   "cell_type": "code",
   "execution_count": null,
   "id": "3efb371c29124bed",
   "metadata": {
    "ExecuteTime": {
     "end_time": "2024-02-20T19:26:01.403205Z",
     "start_time": "2024-02-20T19:25:59.640711Z"
    }
   },
   "outputs": [],
   "source": [
    "pipe_cfg = config.configure_pipeline(pipe_cfg,pipe_cfg=pipe_cfg,data_cfg=data_cfg,dt_string=datetime.now().strftime(\"%d/%m/%Y %H:%M:%S\"))\n",
    "data_cfg = config.configure_data(data_cfg,pipe_cfg)\n",
    "\n",
    "dataset = input_tables.Tables(data_cfg, pipe_cfg)\n",
    "DF = config.configure_dataframe(dataset,load=True)"
   ]
  },
  {
   "cell_type": "code",
   "execution_count": null,
   "id": "517ffa50",
   "metadata": {},
   "outputs": [],
   "source": "DF.unq_candidates_df"
  },
  {
   "cell_type": "code",
   "execution_count": null,
   "id": "11c2a9d096f5249b",
   "metadata": {
    "ExecuteTime": {
     "start_time": "2024-02-20T19:26:02.173117Z"
    },
    "is_executing": true,
    "scrolled": false
   },
   "outputs": [],
   "source": [
    "SR=ShowRoom(DF)\n",
    "SR.showroom(CRKmode=True,companion=True)"
   ]
  },
  {
   "cell_type": "code",
   "execution_count": null,
   "id": "1c28bf0d",
   "metadata": {},
   "outputs": [],
   "source": [
    "DF.mvs_targets_df.loc[DF.mvs_targets_df.mvs_ids==211].fits_f850lp"
   ]
  },
  {
   "cell_type": "code",
   "execution_count": null,
   "id": "a37f89df",
   "metadata": {},
   "outputs": [],
   "source": []
  }
 ],
 "metadata": {
  "kernelspec": {
   "display_name": "Python 3 (ipykernel)",
   "language": "python",
   "name": "python3"
  },
  "language_info": {
   "codemirror_mode": {
    "name": "ipython",
    "version": 3
   },
   "file_extension": ".py",
   "mimetype": "text/x-python",
   "name": "python",
   "nbconvert_exporter": "python",
   "pygments_lexer": "ipython3",
   "version": "3.11.4"
  }
 },
 "nbformat": 4,
 "nbformat_minor": 5
}
