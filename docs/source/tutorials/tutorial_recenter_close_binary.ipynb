{
 "cells": [
  {
   "metadata": {},
   "cell_type": "markdown",
   "source": "# Tutorial: Recenter Close Binaries",
   "id": "e5c182b614b27c7"
  },
  {
   "metadata": {
    "collapsed": true,
    "ExecuteTime": {
     "end_time": "2025-06-18T19:40:52.854335Z",
     "start_time": "2025-06-18T19:40:50.688344Z"
    }
   },
   "cell_type": "code",
   "source": [
    "from datetime import datetime\n",
    "import config, input_tables\n",
    "from astropy.io import fits\n",
    "from straklip.tiles import Tile\n"
   ],
   "id": "initial_id",
   "outputs": [],
   "execution_count": 1
  },
  {
   "metadata": {},
   "cell_type": "markdown",
   "source": "## Loading the pipeline configuration file for the project",
   "id": "418c8d447bb94f32"
  },
  {
   "metadata": {},
   "cell_type": "markdown",
   "source": "Two pipeline configuration files are stored in the `tutorials/pipeline_logs`, directory, namely `pipe.yaml` and `data.yaml`. A more in-deep explanation of these file, is presented here: https://straklip.readthedocs.io/latest/quick_start.html. We start by loading into the pipeline as follow.",
   "id": "efef220d09dc80ec"
  },
  {
   "metadata": {
    "collapsed": false,
    "ExecuteTime": {
     "end_time": "2025-06-18T19:50:57.376111Z",
     "start_time": "2025-06-18T19:50:57.373575Z"
    }
   },
   "cell_type": "code",
   "source": [
    "pipe_cfg='/Users/gstrampelli/PycharmProjects/StraKLIP_tutorial_test/pipeline_logs/pipe.yaml'\n",
    "data_cfg='/Users/gstrampelli/PycharmProjects/StraKLIP_tutorial_test/pipeline_logs/data.yaml'"
   ],
   "id": "ea18e004e16e7785",
   "outputs": [],
   "execution_count": 5
  },
  {
   "metadata": {
    "collapsed": false,
    "ExecuteTime": {
     "end_time": "2025-06-18T19:50:58.610436Z",
     "start_time": "2025-06-18T19:50:57.989954Z"
    }
   },
   "cell_type": "code",
   "source": [
    "pipe_cfg = config.configure_pipeline(pipe_cfg,pipe_cfg=pipe_cfg,data_cfg=data_cfg,dt_string=datetime.now().strftime(\"%d/%m/%Y %H:%M:%S\"))\n",
    "data_cfg = config.configure_data(data_cfg,pipe_cfg)\n",
    "\n",
    "dataset = input_tables.Tables(data_cfg, pipe_cfg)\n",
    "DF = config.configure_dataframe(dataset,load=True)"
   ],
   "id": "f7cff3792e7b628b",
   "outputs": [
    {
     "name": "stderr",
     "output_type": "stream",
     "text": [
      "WARNING:config:get_Av_dict currently only supports VEGAmag system. Please provide your own set of AVs if in a differest system as AVs : {ext: {mag_filter : value}} in the data.yaml under target\n"
     ]
    }
   ],
   "execution_count": 6
  },
  {
   "metadata": {
    "collapsed": false,
    "ExecuteTime": {
     "end_time": "2025-06-18T19:51:26.692187Z",
     "start_time": "2025-06-18T19:51:26.676880Z"
    }
   },
   "cell_type": "code",
   "source": [
    "DF.mvs_targets_df.loc[DF.mvs_targets_df.mvs_ids==211,'x_f814w']=765.380149+1\n",
    "DF.mvs_targets_df.loc[DF.mvs_targets_df.mvs_ids==211,'y_f814w']=810.062673-1\n",
    "DF.mvs_targets_df.loc[DF.mvs_targets_df.mvs_ids==211,'x_f850lp']=765.073439+1\n",
    "DF.mvs_targets_df.loc[DF.mvs_targets_df.mvs_ids==211,'y_f850lp']=810.5119-1"
   ],
   "id": "539a14bb1327d9c",
   "outputs": [
    {
     "ename": "AttributeError",
     "evalue": "'DataFrame' object has no attribute 'mvs_targets_df'",
     "output_type": "error",
     "traceback": [
      "\u001B[0;31m---------------------------------------------------------------------------\u001B[0m",
      "\u001B[0;31mAttributeError\u001B[0m                            Traceback (most recent call last)",
      "Cell \u001B[0;32mIn[7], line 1\u001B[0m\n\u001B[0;32m----> 1\u001B[0m DF\u001B[38;5;241m.\u001B[39mmvs_targets_df\u001B[38;5;241m.\u001B[39mloc[DF\u001B[38;5;241m.\u001B[39mmvs_targets_df\u001B[38;5;241m.\u001B[39mmvs_ids\u001B[38;5;241m==\u001B[39m\u001B[38;5;241m211\u001B[39m,\u001B[38;5;124m'\u001B[39m\u001B[38;5;124mx_f814w\u001B[39m\u001B[38;5;124m'\u001B[39m]\u001B[38;5;241m=\u001B[39m\u001B[38;5;241m765.380149\u001B[39m\u001B[38;5;241m+\u001B[39m\u001B[38;5;241m1\u001B[39m\n\u001B[1;32m      2\u001B[0m DF\u001B[38;5;241m.\u001B[39mmvs_targets_df\u001B[38;5;241m.\u001B[39mloc[DF\u001B[38;5;241m.\u001B[39mmvs_targets_df\u001B[38;5;241m.\u001B[39mmvs_ids\u001B[38;5;241m==\u001B[39m\u001B[38;5;241m211\u001B[39m,\u001B[38;5;124m'\u001B[39m\u001B[38;5;124my_f814w\u001B[39m\u001B[38;5;124m'\u001B[39m]\u001B[38;5;241m=\u001B[39m\u001B[38;5;241m810.062673\u001B[39m\u001B[38;5;241m-\u001B[39m\u001B[38;5;241m1\u001B[39m\n\u001B[1;32m      3\u001B[0m DF\u001B[38;5;241m.\u001B[39mmvs_targets_df\u001B[38;5;241m.\u001B[39mloc[DF\u001B[38;5;241m.\u001B[39mmvs_targets_df\u001B[38;5;241m.\u001B[39mmvs_ids\u001B[38;5;241m==\u001B[39m\u001B[38;5;241m211\u001B[39m,\u001B[38;5;124m'\u001B[39m\u001B[38;5;124mx_f850lp\u001B[39m\u001B[38;5;124m'\u001B[39m]\u001B[38;5;241m=\u001B[39m\u001B[38;5;241m765.073439\u001B[39m\u001B[38;5;241m+\u001B[39m\u001B[38;5;241m1\u001B[39m\n",
      "\u001B[0;31mAttributeError\u001B[0m: 'DataFrame' object has no attribute 'mvs_targets_df'"
     ]
    }
   ],
   "execution_count": 7
  },
  {
   "metadata": {
    "collapsed": false
   },
   "cell_type": "code",
   "outputs": [],
   "execution_count": 0,
   "source": [
    "path2fits='/Users/gstrampelli/PycharmProjects/Giovanni/work/data/FFP/fits/iexn54coq_flc.fits'\n",
    "filter='f814w'\n",
    "hdul = fits.open(path2fits)\n",
    "SCI = hdul[1].data\n",
    "hdul.close()\n",
    "x, y = DF.mvs_targets_df.loc[DF.mvs_targets_df.mvs_ids==211, [f'x_{filter}'.lower(), f'y_{filter}'.lower()]].values[0]\n",
    "DATA = Tile(data=SCI, x=x, y=y, tile_base=11, delta=0, inst='WFC3', Python_origin=False)\n",
    "DATA.mk_tile(pad_data=True, legend=False, showplot=True, verbose=False, kill_plots=True, cbar=True,\n",
    "             return_tile=False)"
   ],
   "id": "15ed81632a1e262b"
  },
  {
   "metadata": {
    "collapsed": false
   },
   "cell_type": "code",
   "outputs": [],
   "execution_count": 0,
   "source": [
    "path2fits='/Users/gstrampelli/PycharmProjects/Giovanni/work/data/FFP/fits/iexn54csq_flc.fits'\n",
    "filter='f850lp'\n",
    "hdul = fits.open(path2fits)\n",
    "SCI = hdul[1].data\n",
    "hdul.close()\n",
    "x, y = DF.mvs_targets_df.loc[DF.mvs_targets_df.mvs_ids==211, [f'x_{filter}'.lower(), f'y_{filter}'.lower()]].values[0]\n",
    "DATA = Tile(data=SCI, x=x, y=y, tile_base=11, delta=0, inst='WFC3', Python_origin=False)\n",
    "DATA.mk_tile(pad_data=True, legend=False, showplot=True, verbose=False, kill_plots=True, cbar=True,\n",
    "             return_tile=False)"
   ],
   "id": "f764656491f8ffae"
  },
  {
   "metadata": {
    "collapsed": false
   },
   "cell_type": "code",
   "outputs": [],
   "execution_count": 0,
   "source": "DF.save_dataframes('mvs_targets')",
   "id": "d9b514f978877751"
  }
 ],
 "metadata": {
  "kernelspec": {
   "display_name": "Python 3",
   "language": "python",
   "name": "python3"
  },
  "language_info": {
   "codemirror_mode": {
    "name": "ipython",
    "version": 2
   },
   "file_extension": ".py",
   "mimetype": "text/x-python",
   "name": "python",
   "nbconvert_exporter": "python",
   "pygments_lexer": "ipython2",
   "version": "2.7.6"
  }
 },
 "nbformat": 4,
 "nbformat_minor": 5
}
