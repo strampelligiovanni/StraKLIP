{
 "cells": [
  {
   "metadata": {},
   "cell_type": "markdown",
   "source": "# Tutorial: Joining FLC catalogues",
   "id": "f010f47b8cabab95"
  },
  {
   "metadata": {},
   "cell_type": "markdown",
   "source": "In this notebook we wil learn how to assemble standard mvs_targets_catalogue and unq_targets_catalogue to be fed to the pipeline to generate its own database.",
   "id": "547f621d9b34964d"
  },
  {
   "metadata": {},
   "cell_type": "markdown",
   "source": "## Setup and Imports",
   "id": "e280bc6c82ade9ab"
  },
  {
   "metadata": {},
   "cell_type": "code",
   "source": [
    "%load_ext autoreload\n",
    "%autoreload 2\n",
    "import pandas as pd\n",
    "from glob import glob\n",
    "from tqdm import tqdm\n",
    "from astropy.io import fits\n",
    "import datetime\n",
    "import time\n",
    "import numpy as np\n",
    "from IPython.core.display import display, HTML\n",
    "from straklip.utils.utils_tile import small_tiles\n",
    "\n",
    "display(HTML(\"<style>.container { width:100% !important; }</style>\"))"
   ],
   "id": "initial_id",
   "outputs": [],
   "execution_count": null
  },
  {
   "metadata": {},
   "cell_type": "markdown",
   "source": "Here whe load the original catalog targets_drc.csv ina pandas dataframe. This catalog contain the following columns: target,file,filter,ra,dec,x,y,mag_aper,e_mag_aper,dist,snr",
   "id": "9e5c3ae6ddbe4fd6"
  },
  {
   "metadata": {},
   "cell_type": "code",
   "source": [
    "unq_target_df=pd.read_csv('/Users/gstrampelli/PycharmProjects/StraKLIP_tutorial_test/targets_drc.csv')\n",
    "unq_target_df"
   ],
   "id": "3904fe59f43ad77d",
   "outputs": [],
   "execution_count": null
  },
  {
   "metadata": {},
   "cell_type": "code",
   "source": [
    "mvs_target_df=pd.read_csv('/Users/gstrampelli/PycharmProjects/Giovanni/work/database/FFP/targets_flc.csv')\n",
    "mvs_target_df"
   ],
   "id": "b9375dad0accc17f",
   "outputs": [],
   "execution_count": null
  },
  {
   "metadata": {},
   "cell_type": "code",
   "source": [
    "path2fits='/Users/gstrampelli/PycharmProjects/Giovanni/work/data/FFP/fits/'\n",
    "for file in tqdm(glob(path2fits+'/*')):\n",
    "    fitsname=file.split('/')[-1].split('.')[0]\n",
    "    hdul=fits.open(path2fits+fitsname+'.fits')\n",
    "    mvs_target_df.loc[mvs_target_df.file==fitsname+'.fits','filters']=hdul[0].header['FILTER']\n",
    "\n",
    "    dateobs=hdul[0].header['DATE-OBS'].split('-')\n",
    "    timeobs=hdul[0].header['TIME-OBS'].split(':')\n",
    "\n",
    "    # df=pd.read_csv(file)\n",
    "    date_time = datetime.datetime(int(dateobs[0]), int(dateobs[1]), int(dateobs[2]), int(timeobs[0]), int(timeobs[1]), int(timeobs[2]))\n",
    "    mvs_target_df.loc[mvs_target_df.file==fitsname+'.fits','unittime']=time.mktime(date_time.timetuple())\n",
    "    mvs_target_df.loc[mvs_target_df.file==fitsname+'.fits','fitsroot']=fitsname.split('_')[0]\n",
    "    mvs_target_df.loc[mvs_target_df.file==fitsname+'.fits','filters']=hdul[0].header['FILTER']\n",
    "    mvs_target_df.loc[mvs_target_df.file==fitsname+'.fits','ccd']=hdul[1].header['CCDCHIP']\n",
    "    mvs_target_df.loc[mvs_target_df.file==fitsname+'.fits','visit']=str(fitsname[4:6])\n",
    "    mvs_target_df.loc[mvs_target_df.file==fitsname+'.fits','exptime']=hdul[0].header['EXPTIME']\n",
    "    mvs_target_df.loc[mvs_target_df.file==fitsname+'.fits','pav3']=hdul[0].header['PA_V3']\n",
    "    mvs_target_df.loc[mvs_target_df.file==fitsname+'.fits','rota']=hdul[1].header['ORIENTAT']\n"
   ],
   "id": "62ffc37a2fcab0a2",
   "outputs": [],
   "execution_count": null
  },
  {
   "metadata": {},
   "cell_type": "code",
   "source": "mvs_target_df",
   "id": "335f5c7ddfb85c78",
   "outputs": [],
   "execution_count": null
  },
  {
   "metadata": {},
   "cell_type": "code",
   "source": "mvs_target_df.loc[mvs_target_df.filters=='F814W']",
   "id": "86307d2edf8d28e5",
   "outputs": [],
   "execution_count": null
  },
  {
   "metadata": {},
   "cell_type": "code",
   "source": "mvs_target_df.loc[mvs_target_df.filters=='F850LP']",
   "id": "61836500373b0276",
   "outputs": [],
   "execution_count": null
  },
  {
   "metadata": {},
   "cell_type": "code",
   "source": "mvs_target_df.loc[~mvs_target_df.x.isna()]",
   "id": "e966662ca497834b",
   "outputs": [],
   "execution_count": null
  },
  {
   "metadata": {},
   "cell_type": "code",
   "source": [
    "elno=0\n",
    "# mvs_target_df['unq_ids'] = np.nan\n",
    "for TARGET in mvs_target_df.TARGET.unique():\n",
    "    mvs_target_df.loc[mvs_target_df.TARGET == TARGET, 'unq_ids'] = int(elno)\n",
    "    elno+=1"
   ],
   "id": "a26934e666679a0e",
   "outputs": [],
   "execution_count": null
  },
  {
   "metadata": {},
   "cell_type": "code",
   "source": "mvs_target_df = mvs_target_df.sort_values(['unq_ids','filters'])[['unq_ids', 'TARGET', 'file', 'x', 'y', 'dist', 'snr', 'filters','unittime','fitsroot','ccd','visit','exptime','pav3','rota']].reset_index(drop=True)",
   "id": "34f41f2a36787a83",
   "outputs": [],
   "execution_count": null
  },
  {
   "metadata": {},
   "cell_type": "code",
   "source": "mvs_target_df.loc[~mvs_target_df.x.isna()&(mvs_target_df.filters=='F814W')]",
   "id": "655ae68b9132aac0",
   "outputs": [],
   "execution_count": null
  },
  {
   "metadata": {},
   "cell_type": "code",
   "source": "mvs_target_df.loc[~mvs_target_df.x.isna()&(mvs_target_df.filters=='F850LP')]",
   "id": "dab10994c026ce06",
   "outputs": [],
   "execution_count": null
  },
  {
   "metadata": {},
   "cell_type": "code",
   "source": [
    "for target in mvs_target_df.TARGET.unique():\n",
    "    if unq_target_df.loc[unq_target_df.target ==target].empty:\n",
    "        index=mvs_target_df.loc[(mvs_target_df.TARGET==target)].index\n",
    "        mvs_target_df.drop(index,inplace=True)\n",
    "    else:\n",
    "        unq_target_df.loc[unq_target_df.target ==target,'unq_ids'] = mvs_target_df.loc[mvs_target_df.TARGET == target, 'unq_ids'].values[0]\n",
    "unq_target_df=unq_target_df.sort_values('unq_ids').reset_index(drop=True)\n",
    "unq_target_df"
   ],
   "id": "317fd3cc130ef14d",
   "outputs": [],
   "execution_count": null
  },
  {
   "metadata": {},
   "cell_type": "code",
   "source": "mvs_target_df",
   "id": "6712183ec07ddbd9",
   "outputs": [],
   "execution_count": null
  },
  {
   "metadata": {},
   "cell_type": "code",
   "source": [
    "pos=0\n",
    "mvs_dataframe=pd.DataFrame(columns=['unq_ids','ext', 'visit','x_f814w','y_f814w','x_f850lp','y_f850lp','fitsroot_f814w','fitsroot_f850lp', 'exptime_f814w','exptime_f850lp', 'pav3_f814w', 'pav3_f850lp', 'rota_f814w', 'rota_f850lp','flag_f814w','flag_f850lp'])\n",
    "mvs_dataframe['flag_f814w']='rejected'\n",
    "mvs_dataframe['flag_f850lp']='rejected'\n",
    "\n",
    "for id in tqdm(mvs_target_df.unq_ids.unique()):\n",
    "    df_F814W = mvs_target_df.loc[(mvs_target_df.unq_ids==id)&(mvs_target_df.filters=='F814W')].sort_values(['unittime'])\n",
    "    df_F850LP = mvs_target_df.loc[(mvs_target_df.unq_ids==id)&(mvs_target_df.filters=='F850LP')].sort_values(['unittime'])\n",
    "    num =  df_F814W.unq_ids.count() if df_F814W.unq_ids.count() >= df_F850LP.unq_ids.count() else df_F850LP.unq_ids.count()\n",
    "    for elno in range(num):\n",
    "        mvs_dataframe.loc[pos,'unq_ids'] = id\n",
    "        if not df_F814W.empty and elno <= df_F814W.unq_ids.count()-1:\n",
    "            mvs_dataframe.loc[pos,'ext'] = 1 if df_F814W.ccd.unique() == 2 else 4\n",
    "            mvs_dataframe.loc[pos,'visit'] = df_F814W.visit.unique()\n",
    "            mvs_dataframe.loc[pos,['x_f814w','y_f814w','fitsroot_f814w','exptime_f814w','pav3_f814w','rota_f814w']] =df_F814W.iloc[elno][['x','y','fitsroot','exptime','pav3','rota']].values\n",
    "        else:\n",
    "            mvs_dataframe.loc[pos,'ext'] = 1 if df_F850LP.ccd.unique() == 2 else 4\n",
    "            mvs_dataframe.loc[pos,'visit'] = df_F850LP.visit.unique()\n",
    "\n",
    "        if not df_F850LP.empty and elno <= df_F850LP.unq_ids.count()-1:\n",
    "            mvs_dataframe.loc[pos,['x_f850lp','y_f850lp','fitsroot_f850lp','exptime_f850lp','pav3_f850lp','rota_f850lp']] =df_F850LP.iloc[elno][['x','y','fitsroot','exptime','pav3','rota']].values\n",
    "        pos+=1\n",
    "\n",
    "mvs_dataframe"
   ],
   "id": "534c01f01a741425",
   "outputs": [],
   "execution_count": null
  },
  {
   "metadata": {},
   "cell_type": "code",
   "source": [
    "mvs_dataframe = mvs_dataframe.reset_index().rename(columns={'index':'mvs_ids'})\n",
    "mvs_dataframe['unq_ids']=mvs_dataframe.unq_ids.astype(int)\n",
    "mvs_dataframe\n"
   ],
   "id": "c714346938726541",
   "outputs": [],
   "execution_count": null
  },
  {
   "metadata": {},
   "cell_type": "code",
   "source": [
    "path2tiles='/Users/gstrampelli/PycharmProjects/Giovanni/work/out/FFP/'\n",
    "bad_F814W=[124,166,192,193,194,197]\n",
    "good_F814W=[4,5,6,7,14,30,43,48,50,88,90,98,116,120,122,124,126,129,141,146,148,164,165,167,168,172,174,177,184,185,186,187,188,189,190,191,192,193,194,195,196,198,199,200,201,202,203,208,209,210,211,212,216]\n",
    "\n",
    "bad_F850LP=[166,184,185,189,190,192,197]\n",
    "good_F850LP=[4,5,6,7,9,23,26,27,36,42,59,68,92,97,107,118,120,127,135,140,156,164,165,167,170,172,184,185,186,187,188,189,190,191,192,193,194,195,196,198,199,200,201,202,203,208,209,210,211,212,214,226]\n",
    "dict={'bad_f814w':bad_F814W,'bad_f850lp':bad_F850LP,'good_f814w':good_F814W,'good_f850lp':good_F850LP}\n",
    "\n",
    "\n",
    "mvs_dataframe = small_tiles(mvs_dataframe,path2fits, path2tiles, ['f814w','f850lp'], dict=dict,nrows=21, ncols=10)\n",
    "mvs_dataframe"
   ],
   "id": "12cb2f01d947e8a6",
   "outputs": [],
   "execution_count": null
  },
  {
   "metadata": {},
   "cell_type": "code",
   "source": [
    "mvs_dataframe.loc[mvs_dataframe['flag_f814w'].isna(),'flag_f814w'] = 'rejected'\n",
    "mvs_dataframe.loc[mvs_dataframe['flag_f850lp'].isna(),'flag_f850lp'] = 'rejected'\n"
   ],
   "id": "132743555aef736c",
   "outputs": [],
   "execution_count": null
  },
  {
   "metadata": {},
   "cell_type": "code",
   "source": "mvs_dataframe.to_csv('/Users/gstrampelli/PycharmProjects/Giovanni/work/database/FFP/FFP_mvs_target_photometry.csv')",
   "id": "615f2d62176b4237",
   "outputs": [],
   "execution_count": null
  },
  {
   "metadata": {},
   "cell_type": "code",
   "source": [
    "pos=0\n",
    "# unq_target_df = unq_target_df[['unq_ids','ra','dec','mag_psf','e_mag_psf']].sort_values(by='unq_ids').reset_index(drop=True)\n",
    "unq_dataframe=pd.DataFrame(columns=['unq_ids','ra', 'dec','m_f814w','e_f814w','m_f850lp','e_f850lp','type','target'])\n",
    "\n",
    "for id in tqdm(unq_target_df.unq_ids.unique()):\n",
    "    unq_target_df.loc[(unq_target_df.unq_ids==id),'target']=unq_target_df.loc[unq_target_df.unq_ids==id].target.values[0]\n",
    "    df_F814W = unq_target_df.loc[(unq_target_df.unq_ids==id)&(unq_target_df['filter']=='F814W')]\n",
    "    df_F850LP = unq_target_df.loc[(unq_target_df.unq_ids==id)&(unq_target_df['filter']=='F850LP')]\n",
    "    num =  df_F814W.unq_ids.count() if df_F814W.unq_ids.count() >= df_F850LP.unq_ids.count() else df_F850LP.unq_ids.count()\n",
    "    for elno in range(num):\n",
    "        unq_dataframe.loc[pos,'unq_ids'] = id\n",
    "        if not df_F814W.empty:\n",
    "            unq_dataframe.loc[pos,'ra'] = df_F814W.ra.unique()\n",
    "            unq_dataframe.loc[pos,'dec'] = df_F814W.dec.unique()\n",
    "        elif not df_F850LP.empty:\n",
    "            unq_dataframe.loc[pos,'ra'] = df_F850LP.ra.unique()\n",
    "            unq_dataframe.loc[pos,'dec'] = df_F850LP.dec.unique()\n",
    "\n",
    "        unq_dataframe.loc[pos,'type'] = 1\n",
    "        if np.all(mvs_dataframe.loc[mvs_dataframe.unq_ids==id,['flag_f814w','flag_f850lp']]=='bad_target'):\n",
    "                unq_dataframe.loc[unq_dataframe.unq_ids==id,'type']=0\n",
    "        if not df_F814W.empty and elno <= df_F814W.unq_ids.count()-1:\n",
    "            unq_dataframe.loc[pos,['m_f814w','e_f814w']] =df_F814W.iloc[elno][['mag_aper','e_mag_aper']].values\n",
    "\n",
    "        if not df_F850LP.empty and elno <= df_F850LP.unq_ids.count()-1:\n",
    "            unq_dataframe.loc[pos,['m_f850lp','e_f850lp']] =df_F850LP.iloc[elno][['mag_aper','e_mag_aper']].values\n",
    "        pos+=1\n",
    "\n",
    "unq_dataframe=unq_dataframe.sort_values('unq_ids')\n",
    "unq_dataframe['unq_ids']=unq_dataframe.unq_ids.astype(int)\n",
    "unq_dataframe"
   ],
   "id": "5d799bd42d98b448",
   "outputs": [],
   "execution_count": null
  },
  {
   "metadata": {},
   "cell_type": "code",
   "source": "unq_dataframe.to_csv('/Users/gstrampelli/PycharmProjects/Giovanni/work/database/FFP/FFP_unq_target_photometry.csv')",
   "id": "6eb9eafc643cac2f",
   "outputs": [],
   "execution_count": null
  },
  {
   "metadata": {},
   "cell_type": "code",
   "source": "unq_target_df[['unq_ids','target']].to_csv('/Users/gstrampelli/PycharmProjects/Giovanni/work/database/FFP/FFP_avg2target_ids.csv')",
   "id": "f4e67912611a4f58",
   "outputs": [],
   "execution_count": null
  },
  {
   "metadata": {},
   "cell_type": "code",
   "source": "unq_target_df",
   "id": "3ff163b5ca5b7de8",
   "outputs": [],
   "execution_count": null
  }
 ],
 "metadata": {
  "kernelspec": {
   "display_name": "Python 3 (ipykernel)",
   "language": "python",
   "name": "python3"
  },
  "language_info": {
   "codemirror_mode": {
    "name": "ipython",
    "version": 3
   },
   "file_extension": ".py",
   "mimetype": "text/x-python",
   "name": "python",
   "nbconvert_exporter": "python",
   "pygments_lexer": "ipython3",
   "version": "3.11.4"
  }
 },
 "nbformat": 4,
 "nbformat_minor": 5
}
