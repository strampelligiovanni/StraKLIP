{
 "cells": [
  {
   "cell_type": "code",
   "execution_count": 1,
   "outputs": [],
   "source": [
    "%load_ext autoreload\n",
    "%autoreload 2\n",
    "import pandas as pd\n",
    "from glob import glob\n",
    "from tqdm import tqdm\n",
    "from astropy.io import fits\n",
    "import datetime\n",
    "import time,sys\n",
    "import astropy.units as u\n",
    "import numpy as np\n",
    "import matplotlib.pylab as plt\n",
    "from tiles import Tile\n"
   ],
   "metadata": {
    "collapsed": true,
    "ExecuteTime": {
     "end_time": "2024-03-13T20:50:39.052228Z",
     "start_time": "2024-03-13T20:50:34.020273Z"
    }
   },
   "id": "initial_id"
  },
  {
   "cell_type": "code",
   "execution_count": 2,
   "outputs": [
    {
     "data": {
      "text/plain": "                  target                file  filter          ra        dec  \\\n0    J155150.21-213457.4  iexn13010_drc.fits   F814W  237.959171 -21.582686   \n1    J164636.12-231337.6  iexn01010_drc.fits   F814W  251.650498 -23.227155   \n2    J164636.12-231337.6  iexn01020_drc.fits  F850LP  251.650498 -23.227156   \n3    J155416.68-263018.1  iexn02010_drc.fits   F814W  238.569423 -26.505131   \n4    J155416.68-263018.1  iexn02020_drc.fits  F850LP  238.569423 -26.505132   \n..                   ...                 ...     ...         ...        ...   \n109  J042630.56+244355.5  iexn57020_drc.fits  F850LP   66.627360  24.732046   \n110  J041548.09+291132.9  iexn59010_drc.fits   F814W   63.950387  29.192447   \n111  J041548.09+291132.9  iexn59020_drc.fits  F850LP   63.950389  29.192447   \n112  J042728.00+261204.7  iexn60010_drc.fits   F814W   66.866684  26.201263   \n113  J042728.00+261204.7  iexn60020_drc.fits  F850LP   66.866686  26.201262   \n\n              x           y   mag_aper  e_mag_aper      dist          snr  \n0    766.682062  870.519962  22.277353    0.021258  1.416799   227.932175  \n1    769.100793  866.146099  20.840983    0.005901  4.008029   792.416809  \n2    768.870891  866.488792  19.749264    0.006932  3.617601   600.396423  \n3    762.415167  869.798303  21.448087    0.010977  5.588474   411.439362  \n4    762.213142  870.180384  20.330281    0.012019  5.789669   338.973694  \n..          ...         ...        ...         ...       ...          ...  \n109  772.161171  860.967594  17.388929    0.000777  9.944833  5503.881348  \n110  771.356066  869.879264  19.495704    0.001705  3.358237  2707.892578  \n111  771.125543  870.259044  18.268471    0.001755  3.136259  2408.281494  \n112  770.474934  868.194087  19.229156    0.001359  3.063759  3397.833496  \n113  770.160321  868.634002  17.932862    0.001287  2.555961  3282.342041  \n\n[114 rows x 11 columns]",
      "text/html": "<div>\n<style scoped>\n    .dataframe tbody tr th:only-of-type {\n        vertical-align: middle;\n    }\n\n    .dataframe tbody tr th {\n        vertical-align: top;\n    }\n\n    .dataframe thead th {\n        text-align: right;\n    }\n</style>\n<table border=\"1\" class=\"dataframe\">\n  <thead>\n    <tr style=\"text-align: right;\">\n      <th></th>\n      <th>target</th>\n      <th>file</th>\n      <th>filter</th>\n      <th>ra</th>\n      <th>dec</th>\n      <th>x</th>\n      <th>y</th>\n      <th>mag_aper</th>\n      <th>e_mag_aper</th>\n      <th>dist</th>\n      <th>snr</th>\n    </tr>\n  </thead>\n  <tbody>\n    <tr>\n      <th>0</th>\n      <td>J155150.21-213457.4</td>\n      <td>iexn13010_drc.fits</td>\n      <td>F814W</td>\n      <td>237.959171</td>\n      <td>-21.582686</td>\n      <td>766.682062</td>\n      <td>870.519962</td>\n      <td>22.277353</td>\n      <td>0.021258</td>\n      <td>1.416799</td>\n      <td>227.932175</td>\n    </tr>\n    <tr>\n      <th>1</th>\n      <td>J164636.12-231337.6</td>\n      <td>iexn01010_drc.fits</td>\n      <td>F814W</td>\n      <td>251.650498</td>\n      <td>-23.227155</td>\n      <td>769.100793</td>\n      <td>866.146099</td>\n      <td>20.840983</td>\n      <td>0.005901</td>\n      <td>4.008029</td>\n      <td>792.416809</td>\n    </tr>\n    <tr>\n      <th>2</th>\n      <td>J164636.12-231337.6</td>\n      <td>iexn01020_drc.fits</td>\n      <td>F850LP</td>\n      <td>251.650498</td>\n      <td>-23.227156</td>\n      <td>768.870891</td>\n      <td>866.488792</td>\n      <td>19.749264</td>\n      <td>0.006932</td>\n      <td>3.617601</td>\n      <td>600.396423</td>\n    </tr>\n    <tr>\n      <th>3</th>\n      <td>J155416.68-263018.1</td>\n      <td>iexn02010_drc.fits</td>\n      <td>F814W</td>\n      <td>238.569423</td>\n      <td>-26.505131</td>\n      <td>762.415167</td>\n      <td>869.798303</td>\n      <td>21.448087</td>\n      <td>0.010977</td>\n      <td>5.588474</td>\n      <td>411.439362</td>\n    </tr>\n    <tr>\n      <th>4</th>\n      <td>J155416.68-263018.1</td>\n      <td>iexn02020_drc.fits</td>\n      <td>F850LP</td>\n      <td>238.569423</td>\n      <td>-26.505132</td>\n      <td>762.213142</td>\n      <td>870.180384</td>\n      <td>20.330281</td>\n      <td>0.012019</td>\n      <td>5.789669</td>\n      <td>338.973694</td>\n    </tr>\n    <tr>\n      <th>...</th>\n      <td>...</td>\n      <td>...</td>\n      <td>...</td>\n      <td>...</td>\n      <td>...</td>\n      <td>...</td>\n      <td>...</td>\n      <td>...</td>\n      <td>...</td>\n      <td>...</td>\n      <td>...</td>\n    </tr>\n    <tr>\n      <th>109</th>\n      <td>J042630.56+244355.5</td>\n      <td>iexn57020_drc.fits</td>\n      <td>F850LP</td>\n      <td>66.627360</td>\n      <td>24.732046</td>\n      <td>772.161171</td>\n      <td>860.967594</td>\n      <td>17.388929</td>\n      <td>0.000777</td>\n      <td>9.944833</td>\n      <td>5503.881348</td>\n    </tr>\n    <tr>\n      <th>110</th>\n      <td>J041548.09+291132.9</td>\n      <td>iexn59010_drc.fits</td>\n      <td>F814W</td>\n      <td>63.950387</td>\n      <td>29.192447</td>\n      <td>771.356066</td>\n      <td>869.879264</td>\n      <td>19.495704</td>\n      <td>0.001705</td>\n      <td>3.358237</td>\n      <td>2707.892578</td>\n    </tr>\n    <tr>\n      <th>111</th>\n      <td>J041548.09+291132.9</td>\n      <td>iexn59020_drc.fits</td>\n      <td>F850LP</td>\n      <td>63.950389</td>\n      <td>29.192447</td>\n      <td>771.125543</td>\n      <td>870.259044</td>\n      <td>18.268471</td>\n      <td>0.001755</td>\n      <td>3.136259</td>\n      <td>2408.281494</td>\n    </tr>\n    <tr>\n      <th>112</th>\n      <td>J042728.00+261204.7</td>\n      <td>iexn60010_drc.fits</td>\n      <td>F814W</td>\n      <td>66.866684</td>\n      <td>26.201263</td>\n      <td>770.474934</td>\n      <td>868.194087</td>\n      <td>19.229156</td>\n      <td>0.001359</td>\n      <td>3.063759</td>\n      <td>3397.833496</td>\n    </tr>\n    <tr>\n      <th>113</th>\n      <td>J042728.00+261204.7</td>\n      <td>iexn60020_drc.fits</td>\n      <td>F850LP</td>\n      <td>66.866686</td>\n      <td>26.201262</td>\n      <td>770.160321</td>\n      <td>868.634002</td>\n      <td>17.932862</td>\n      <td>0.001287</td>\n      <td>2.555961</td>\n      <td>3282.342041</td>\n    </tr>\n  </tbody>\n</table>\n<p>114 rows × 11 columns</p>\n</div>"
     },
     "execution_count": 2,
     "metadata": {},
     "output_type": "execute_result"
    }
   ],
   "source": [
    "avg_target_df=pd.read_csv('/Users/gstrampelli/PycharmProjects/Giovanni/work/database/FFP/targets_drc.csv')\n",
    "avg_target_df"
   ],
   "metadata": {
    "collapsed": false,
    "ExecuteTime": {
     "end_time": "2024-03-13T20:50:43.757248Z",
     "start_time": "2024-03-13T20:50:43.157403Z"
    }
   },
   "id": "3904fe59f43ad77d"
  },
  {
   "cell_type": "code",
   "execution_count": 3,
   "outputs": [
    {
     "data": {
      "text/plain": "                  TARGET                file           x           y  \\\n0    J161754.11-232606.1  iexn12jvq_flc.fits  759.949707  821.036717   \n1    J164636.12-231337.6  iexn01oxq_flc.fits  760.166750  814.764820   \n2    J164636.12-231337.6  iexn01oyq_flc.fits  764.116000  816.179947   \n3    J164636.12-231337.6  iexn01ozq_flc.fits  762.529002  818.684984   \n4    J164636.12-231337.6  iexn01p0q_flc.fits  758.590255  817.187352   \n..                   ...                 ...         ...         ...   \n459  J042728.00+261204.7  iexn60olq_flc.fits  759.869457  819.409412   \n460  J042728.00+261204.7  iexn60omq_flc.fits  761.124038  817.287748   \n461  J042728.00+261204.7  iexn60onq_flc.fits  765.226449  818.745160   \n462  J042728.00+261204.7  iexn60osq_flc.fits  763.572052  821.280073   \n463  J042728.00+261204.7  iexn60otq_flc.fits  759.590209  819.827968   \n\n         dist          snr  \n0    5.892971    82.648369  \n1    5.816072   301.423645  \n2    2.023375   282.925293  \n3    2.564182   289.122620  \n4    6.461054   284.427185  \n..        ...          ...  \n459  5.320613  1309.979614  \n460  3.940861  1232.124512  \n461  0.778809  1284.783569  \n462  3.577417  1178.333008  \n463  5.710281  1252.232666  \n\n[464 rows x 6 columns]",
      "text/html": "<div>\n<style scoped>\n    .dataframe tbody tr th:only-of-type {\n        vertical-align: middle;\n    }\n\n    .dataframe tbody tr th {\n        vertical-align: top;\n    }\n\n    .dataframe thead th {\n        text-align: right;\n    }\n</style>\n<table border=\"1\" class=\"dataframe\">\n  <thead>\n    <tr style=\"text-align: right;\">\n      <th></th>\n      <th>TARGET</th>\n      <th>file</th>\n      <th>x</th>\n      <th>y</th>\n      <th>dist</th>\n      <th>snr</th>\n    </tr>\n  </thead>\n  <tbody>\n    <tr>\n      <th>0</th>\n      <td>J161754.11-232606.1</td>\n      <td>iexn12jvq_flc.fits</td>\n      <td>759.949707</td>\n      <td>821.036717</td>\n      <td>5.892971</td>\n      <td>82.648369</td>\n    </tr>\n    <tr>\n      <th>1</th>\n      <td>J164636.12-231337.6</td>\n      <td>iexn01oxq_flc.fits</td>\n      <td>760.166750</td>\n      <td>814.764820</td>\n      <td>5.816072</td>\n      <td>301.423645</td>\n    </tr>\n    <tr>\n      <th>2</th>\n      <td>J164636.12-231337.6</td>\n      <td>iexn01oyq_flc.fits</td>\n      <td>764.116000</td>\n      <td>816.179947</td>\n      <td>2.023375</td>\n      <td>282.925293</td>\n    </tr>\n    <tr>\n      <th>3</th>\n      <td>J164636.12-231337.6</td>\n      <td>iexn01ozq_flc.fits</td>\n      <td>762.529002</td>\n      <td>818.684984</td>\n      <td>2.564182</td>\n      <td>289.122620</td>\n    </tr>\n    <tr>\n      <th>4</th>\n      <td>J164636.12-231337.6</td>\n      <td>iexn01p0q_flc.fits</td>\n      <td>758.590255</td>\n      <td>817.187352</td>\n      <td>6.461054</td>\n      <td>284.427185</td>\n    </tr>\n    <tr>\n      <th>...</th>\n      <td>...</td>\n      <td>...</td>\n      <td>...</td>\n      <td>...</td>\n      <td>...</td>\n      <td>...</td>\n    </tr>\n    <tr>\n      <th>459</th>\n      <td>J042728.00+261204.7</td>\n      <td>iexn60olq_flc.fits</td>\n      <td>759.869457</td>\n      <td>819.409412</td>\n      <td>5.320613</td>\n      <td>1309.979614</td>\n    </tr>\n    <tr>\n      <th>460</th>\n      <td>J042728.00+261204.7</td>\n      <td>iexn60omq_flc.fits</td>\n      <td>761.124038</td>\n      <td>817.287748</td>\n      <td>3.940861</td>\n      <td>1232.124512</td>\n    </tr>\n    <tr>\n      <th>461</th>\n      <td>J042728.00+261204.7</td>\n      <td>iexn60onq_flc.fits</td>\n      <td>765.226449</td>\n      <td>818.745160</td>\n      <td>0.778809</td>\n      <td>1284.783569</td>\n    </tr>\n    <tr>\n      <th>462</th>\n      <td>J042728.00+261204.7</td>\n      <td>iexn60osq_flc.fits</td>\n      <td>763.572052</td>\n      <td>821.280073</td>\n      <td>3.577417</td>\n      <td>1178.333008</td>\n    </tr>\n    <tr>\n      <th>463</th>\n      <td>J042728.00+261204.7</td>\n      <td>iexn60otq_flc.fits</td>\n      <td>759.590209</td>\n      <td>819.827968</td>\n      <td>5.710281</td>\n      <td>1252.232666</td>\n    </tr>\n  </tbody>\n</table>\n<p>464 rows × 6 columns</p>\n</div>"
     },
     "execution_count": 3,
     "metadata": {},
     "output_type": "execute_result"
    }
   ],
   "source": [
    "mvs_target_df=pd.read_csv('/Users/gstrampelli/PycharmProjects/Giovanni/work/database/FFP/targets_flc.csv')\n",
    "mvs_target_df"
   ],
   "metadata": {
    "collapsed": false,
    "ExecuteTime": {
     "end_time": "2024-03-13T20:50:45.987686Z",
     "start_time": "2024-03-13T20:50:45.964632Z"
    }
   },
   "id": "b9375dad0accc17f"
  },
  {
   "cell_type": "code",
   "execution_count": 4,
   "outputs": [
    {
     "name": "stderr",
     "output_type": "stream",
     "text": [
      "100%|██████████| 412/412 [00:01<00:00, 363.88it/s]\n"
     ]
    }
   ],
   "source": [
    "path2fits='/Users/gstrampelli/PycharmProjects/Giovanni/work/data/FFP/fits/'\n",
    "for file in tqdm(glob('/Users/gstrampelli/PycharmProjects/Giovanni/work/data/FFP/catalogues/*.csv')):\n",
    "    fitsname=file.split('/')[-1].split('.')[0]\n",
    "    hdul=fits.open(path2fits+fitsname+'.fits')\n",
    "    mvs_target_df.loc[mvs_target_df.file==fitsname+'.fits','filters']=hdul[0].header['FILTER']\n",
    "    \n",
    "    dateobs=hdul[0].header['DATE-OBS'].split('-')\n",
    "    timeobs=hdul[0].header['TIME-OBS'].split(':')\n",
    "    \n",
    "    # df=pd.read_csv(file)\n",
    "    date_time = datetime.datetime(int(dateobs[0]), int(dateobs[1]), int(dateobs[2]), int(timeobs[0]), int(timeobs[1]), int(timeobs[2]))\n",
    "    mvs_target_df.loc[mvs_target_df.file==fitsname+'.fits','unittime']=time.mktime(date_time.timetuple())\n",
    "    mvs_target_df.loc[mvs_target_df.file==fitsname+'.fits','fitsroot']=fitsname.split('_')[0]\n",
    "    mvs_target_df.loc[mvs_target_df.file==fitsname+'.fits','filters']=hdul[0].header['FILTER']\n",
    "    mvs_target_df.loc[mvs_target_df.file==fitsname+'.fits','ccd']=hdul[1].header['CCDCHIP']\n",
    "    mvs_target_df.loc[mvs_target_df.file==fitsname+'.fits','visit']=str(fitsname[4:6])\n",
    "    mvs_target_df.loc[mvs_target_df.file==fitsname+'.fits','exptime']=hdul[0].header['EXPTIME']\n",
    "    mvs_target_df.loc[mvs_target_df.file==fitsname+'.fits','pav3']=hdul[0].header['PA_V3']\n",
    "    mvs_target_df.loc[mvs_target_df.file==fitsname+'.fits','rota']=hdul[1].header['ORIENTAT']\n",
    " "
   ],
   "metadata": {
    "collapsed": false,
    "ExecuteTime": {
     "end_time": "2024-03-13T20:50:48.944571Z",
     "start_time": "2024-03-13T20:50:47.761620Z"
    }
   },
   "id": "62ffc37a2fcab0a2"
  },
  {
   "cell_type": "code",
   "execution_count": 5,
   "outputs": [
    {
     "data": {
      "text/plain": "                  TARGET                file           x           y  \\\n0    J161754.11-232606.1  iexn12jvq_flc.fits  759.949707  821.036717   \n1    J164636.12-231337.6  iexn01oxq_flc.fits  760.166750  814.764820   \n2    J164636.12-231337.6  iexn01oyq_flc.fits  764.116000  816.179947   \n3    J164636.12-231337.6  iexn01ozq_flc.fits  762.529002  818.684984   \n4    J164636.12-231337.6  iexn01p0q_flc.fits  758.590255  817.187352   \n..                   ...                 ...         ...         ...   \n459  J042728.00+261204.7  iexn60olq_flc.fits  759.869457  819.409412   \n460  J042728.00+261204.7  iexn60omq_flc.fits  761.124038  817.287748   \n461  J042728.00+261204.7  iexn60onq_flc.fits  765.226449  818.745160   \n462  J042728.00+261204.7  iexn60osq_flc.fits  763.572052  821.280073   \n463  J042728.00+261204.7  iexn60otq_flc.fits  759.590209  819.827968   \n\n         dist          snr filters      unittime   fitsroot  ccd visit  \\\n0    5.892971    82.648369  F850LP  1.679281e+09  iexn12jvq  2.0    12   \n1    5.816072   301.423645   F814W  1.678947e+09  iexn01oxq  2.0    01   \n2    2.023375   282.925293   F814W  1.678948e+09  iexn01oyq  2.0    01   \n3    2.564182   289.122620   F814W  1.678948e+09  iexn01ozq  2.0    01   \n4    6.461054   284.427185   F814W  1.678948e+09  iexn01p0q  2.0    01   \n..        ...          ...     ...           ...        ...  ...   ...   \n459  5.320613  1309.979614   F814W  1.692223e+09  iexn60olq  2.0    60   \n460  3.940861  1232.124512  F850LP  1.692223e+09  iexn60omq  2.0    60   \n461  0.778809  1284.783569  F850LP  1.692223e+09  iexn60onq  2.0    60   \n462  3.577417  1178.333008  F850LP  1.692227e+09  iexn60osq  2.0    60   \n463  5.710281  1252.232666  F850LP  1.692227e+09  iexn60otq  2.0    60   \n\n     exptime        pav3        rota  \n0      178.0  100.685303  145.215740  \n1      178.0   97.360497  141.896045  \n2      178.0   97.360527  141.896429  \n3      178.0   97.360527  141.895127  \n4      178.0   97.360497  141.896259  \n..       ...         ...         ...  \n459    178.0   82.269096  126.775930  \n460    178.0   82.269096  126.782502  \n461    178.0   82.269081  126.780277  \n462    178.0   82.269073  126.782875  \n463    178.0   82.269096  126.781152  \n\n[464 rows x 14 columns]",
      "text/html": "<div>\n<style scoped>\n    .dataframe tbody tr th:only-of-type {\n        vertical-align: middle;\n    }\n\n    .dataframe tbody tr th {\n        vertical-align: top;\n    }\n\n    .dataframe thead th {\n        text-align: right;\n    }\n</style>\n<table border=\"1\" class=\"dataframe\">\n  <thead>\n    <tr style=\"text-align: right;\">\n      <th></th>\n      <th>TARGET</th>\n      <th>file</th>\n      <th>x</th>\n      <th>y</th>\n      <th>dist</th>\n      <th>snr</th>\n      <th>filters</th>\n      <th>unittime</th>\n      <th>fitsroot</th>\n      <th>ccd</th>\n      <th>visit</th>\n      <th>exptime</th>\n      <th>pav3</th>\n      <th>rota</th>\n    </tr>\n  </thead>\n  <tbody>\n    <tr>\n      <th>0</th>\n      <td>J161754.11-232606.1</td>\n      <td>iexn12jvq_flc.fits</td>\n      <td>759.949707</td>\n      <td>821.036717</td>\n      <td>5.892971</td>\n      <td>82.648369</td>\n      <td>F850LP</td>\n      <td>1.679281e+09</td>\n      <td>iexn12jvq</td>\n      <td>2.0</td>\n      <td>12</td>\n      <td>178.0</td>\n      <td>100.685303</td>\n      <td>145.215740</td>\n    </tr>\n    <tr>\n      <th>1</th>\n      <td>J164636.12-231337.6</td>\n      <td>iexn01oxq_flc.fits</td>\n      <td>760.166750</td>\n      <td>814.764820</td>\n      <td>5.816072</td>\n      <td>301.423645</td>\n      <td>F814W</td>\n      <td>1.678947e+09</td>\n      <td>iexn01oxq</td>\n      <td>2.0</td>\n      <td>01</td>\n      <td>178.0</td>\n      <td>97.360497</td>\n      <td>141.896045</td>\n    </tr>\n    <tr>\n      <th>2</th>\n      <td>J164636.12-231337.6</td>\n      <td>iexn01oyq_flc.fits</td>\n      <td>764.116000</td>\n      <td>816.179947</td>\n      <td>2.023375</td>\n      <td>282.925293</td>\n      <td>F814W</td>\n      <td>1.678948e+09</td>\n      <td>iexn01oyq</td>\n      <td>2.0</td>\n      <td>01</td>\n      <td>178.0</td>\n      <td>97.360527</td>\n      <td>141.896429</td>\n    </tr>\n    <tr>\n      <th>3</th>\n      <td>J164636.12-231337.6</td>\n      <td>iexn01ozq_flc.fits</td>\n      <td>762.529002</td>\n      <td>818.684984</td>\n      <td>2.564182</td>\n      <td>289.122620</td>\n      <td>F814W</td>\n      <td>1.678948e+09</td>\n      <td>iexn01ozq</td>\n      <td>2.0</td>\n      <td>01</td>\n      <td>178.0</td>\n      <td>97.360527</td>\n      <td>141.895127</td>\n    </tr>\n    <tr>\n      <th>4</th>\n      <td>J164636.12-231337.6</td>\n      <td>iexn01p0q_flc.fits</td>\n      <td>758.590255</td>\n      <td>817.187352</td>\n      <td>6.461054</td>\n      <td>284.427185</td>\n      <td>F814W</td>\n      <td>1.678948e+09</td>\n      <td>iexn01p0q</td>\n      <td>2.0</td>\n      <td>01</td>\n      <td>178.0</td>\n      <td>97.360497</td>\n      <td>141.896259</td>\n    </tr>\n    <tr>\n      <th>...</th>\n      <td>...</td>\n      <td>...</td>\n      <td>...</td>\n      <td>...</td>\n      <td>...</td>\n      <td>...</td>\n      <td>...</td>\n      <td>...</td>\n      <td>...</td>\n      <td>...</td>\n      <td>...</td>\n      <td>...</td>\n      <td>...</td>\n      <td>...</td>\n    </tr>\n    <tr>\n      <th>459</th>\n      <td>J042728.00+261204.7</td>\n      <td>iexn60olq_flc.fits</td>\n      <td>759.869457</td>\n      <td>819.409412</td>\n      <td>5.320613</td>\n      <td>1309.979614</td>\n      <td>F814W</td>\n      <td>1.692223e+09</td>\n      <td>iexn60olq</td>\n      <td>2.0</td>\n      <td>60</td>\n      <td>178.0</td>\n      <td>82.269096</td>\n      <td>126.775930</td>\n    </tr>\n    <tr>\n      <th>460</th>\n      <td>J042728.00+261204.7</td>\n      <td>iexn60omq_flc.fits</td>\n      <td>761.124038</td>\n      <td>817.287748</td>\n      <td>3.940861</td>\n      <td>1232.124512</td>\n      <td>F850LP</td>\n      <td>1.692223e+09</td>\n      <td>iexn60omq</td>\n      <td>2.0</td>\n      <td>60</td>\n      <td>178.0</td>\n      <td>82.269096</td>\n      <td>126.782502</td>\n    </tr>\n    <tr>\n      <th>461</th>\n      <td>J042728.00+261204.7</td>\n      <td>iexn60onq_flc.fits</td>\n      <td>765.226449</td>\n      <td>818.745160</td>\n      <td>0.778809</td>\n      <td>1284.783569</td>\n      <td>F850LP</td>\n      <td>1.692223e+09</td>\n      <td>iexn60onq</td>\n      <td>2.0</td>\n      <td>60</td>\n      <td>178.0</td>\n      <td>82.269081</td>\n      <td>126.780277</td>\n    </tr>\n    <tr>\n      <th>462</th>\n      <td>J042728.00+261204.7</td>\n      <td>iexn60osq_flc.fits</td>\n      <td>763.572052</td>\n      <td>821.280073</td>\n      <td>3.577417</td>\n      <td>1178.333008</td>\n      <td>F850LP</td>\n      <td>1.692227e+09</td>\n      <td>iexn60osq</td>\n      <td>2.0</td>\n      <td>60</td>\n      <td>178.0</td>\n      <td>82.269073</td>\n      <td>126.782875</td>\n    </tr>\n    <tr>\n      <th>463</th>\n      <td>J042728.00+261204.7</td>\n      <td>iexn60otq_flc.fits</td>\n      <td>759.590209</td>\n      <td>819.827968</td>\n      <td>5.710281</td>\n      <td>1252.232666</td>\n      <td>F850LP</td>\n      <td>1.692227e+09</td>\n      <td>iexn60otq</td>\n      <td>2.0</td>\n      <td>60</td>\n      <td>178.0</td>\n      <td>82.269096</td>\n      <td>126.781152</td>\n    </tr>\n  </tbody>\n</table>\n<p>464 rows × 14 columns</p>\n</div>"
     },
     "execution_count": 5,
     "metadata": {},
     "output_type": "execute_result"
    }
   ],
   "source": [
    "mvs_target_df"
   ],
   "metadata": {
    "collapsed": false,
    "ExecuteTime": {
     "end_time": "2024-03-13T20:50:50.715519Z",
     "start_time": "2024-03-13T20:50:50.692344Z"
    }
   },
   "id": "335f5c7ddfb85c78"
  },
  {
   "cell_type": "code",
   "execution_count": 7,
   "outputs": [
    {
     "data": {
      "text/plain": "                  TARGET                file           x           y  \\\n1    J164636.12-231337.6  iexn01oxq_flc.fits  760.166750  814.764820   \n2    J164636.12-231337.6  iexn01oyq_flc.fits  764.116000  816.179947   \n3    J164636.12-231337.6  iexn01ozq_flc.fits  762.529002  818.684984   \n4    J164636.12-231337.6  iexn01p0q_flc.fits  758.590255  817.187352   \n9    J155416.68-263018.1  iexn02e3q_flc.fits  753.259138  818.650003   \n..                   ...                 ...         ...         ...   \n451  J041548.09+291132.9  iexn59efq_flc.fits  760.651206  820.946803   \n456  J042728.00+261204.7  iexn60oiq_flc.fits  761.362280  816.845404   \n457  J042728.00+261204.7  iexn60ojq_flc.fits  765.417200  818.406052   \n458  J042728.00+261204.7  iexn60okq_flc.fits  763.841568  820.861524   \n459  J042728.00+261204.7  iexn60olq_flc.fits  759.869457  819.409412   \n\n          dist          snr filters      unittime   fitsroot  ccd visit  \\\n1     5.816072   301.423645   F814W  1.678947e+09  iexn01oxq  2.0    01   \n2     2.023375   282.925293   F814W  1.678948e+09  iexn01oyq  2.0    01   \n3     2.564182   289.122620   F814W  1.678948e+09  iexn01ozq  2.0    01   \n4     6.461054   284.427185   F814W  1.678948e+09  iexn01p0q  2.0    01   \n9    11.758842   156.033188   F814W  1.674520e+09  iexn02e3q  2.0    02   \n..         ...          ...     ...           ...        ...  ...   ...   \n451   5.253157  1019.242554   F814W  1.692057e+09  iexn59efq  2.0    59   \n456   3.816556  1277.799561   F814W  1.692221e+09  iexn60oiq  2.0    60   \n457   0.582180  1303.087524   F814W  1.692222e+09  iexn60ojq  2.0    60   \n458   3.087116  1275.769409   F814W  1.692222e+09  iexn60okq  2.0    60   \n459   5.320613  1309.979614   F814W  1.692223e+09  iexn60olq  2.0    60   \n\n     exptime       pav3        rota  \n1      178.0  97.360497  141.896045  \n2      178.0  97.360527  141.896429  \n3      178.0  97.360527  141.895127  \n4      178.0  97.360497  141.896259  \n9      179.0  98.681168  143.217358  \n..       ...        ...         ...  \n451    178.0  82.072319  126.584019  \n456    178.0  82.269096  126.769092  \n457    178.0  82.269081  126.770620  \n458    178.0  82.269073  126.770873  \n459    178.0  82.269096  126.775930  \n\n[208 rows x 14 columns]",
      "text/html": "<div>\n<style scoped>\n    .dataframe tbody tr th:only-of-type {\n        vertical-align: middle;\n    }\n\n    .dataframe tbody tr th {\n        vertical-align: top;\n    }\n\n    .dataframe thead th {\n        text-align: right;\n    }\n</style>\n<table border=\"1\" class=\"dataframe\">\n  <thead>\n    <tr style=\"text-align: right;\">\n      <th></th>\n      <th>TARGET</th>\n      <th>file</th>\n      <th>x</th>\n      <th>y</th>\n      <th>dist</th>\n      <th>snr</th>\n      <th>filters</th>\n      <th>unittime</th>\n      <th>fitsroot</th>\n      <th>ccd</th>\n      <th>visit</th>\n      <th>exptime</th>\n      <th>pav3</th>\n      <th>rota</th>\n    </tr>\n  </thead>\n  <tbody>\n    <tr>\n      <th>1</th>\n      <td>J164636.12-231337.6</td>\n      <td>iexn01oxq_flc.fits</td>\n      <td>760.166750</td>\n      <td>814.764820</td>\n      <td>5.816072</td>\n      <td>301.423645</td>\n      <td>F814W</td>\n      <td>1.678947e+09</td>\n      <td>iexn01oxq</td>\n      <td>2.0</td>\n      <td>01</td>\n      <td>178.0</td>\n      <td>97.360497</td>\n      <td>141.896045</td>\n    </tr>\n    <tr>\n      <th>2</th>\n      <td>J164636.12-231337.6</td>\n      <td>iexn01oyq_flc.fits</td>\n      <td>764.116000</td>\n      <td>816.179947</td>\n      <td>2.023375</td>\n      <td>282.925293</td>\n      <td>F814W</td>\n      <td>1.678948e+09</td>\n      <td>iexn01oyq</td>\n      <td>2.0</td>\n      <td>01</td>\n      <td>178.0</td>\n      <td>97.360527</td>\n      <td>141.896429</td>\n    </tr>\n    <tr>\n      <th>3</th>\n      <td>J164636.12-231337.6</td>\n      <td>iexn01ozq_flc.fits</td>\n      <td>762.529002</td>\n      <td>818.684984</td>\n      <td>2.564182</td>\n      <td>289.122620</td>\n      <td>F814W</td>\n      <td>1.678948e+09</td>\n      <td>iexn01ozq</td>\n      <td>2.0</td>\n      <td>01</td>\n      <td>178.0</td>\n      <td>97.360527</td>\n      <td>141.895127</td>\n    </tr>\n    <tr>\n      <th>4</th>\n      <td>J164636.12-231337.6</td>\n      <td>iexn01p0q_flc.fits</td>\n      <td>758.590255</td>\n      <td>817.187352</td>\n      <td>6.461054</td>\n      <td>284.427185</td>\n      <td>F814W</td>\n      <td>1.678948e+09</td>\n      <td>iexn01p0q</td>\n      <td>2.0</td>\n      <td>01</td>\n      <td>178.0</td>\n      <td>97.360497</td>\n      <td>141.896259</td>\n    </tr>\n    <tr>\n      <th>9</th>\n      <td>J155416.68-263018.1</td>\n      <td>iexn02e3q_flc.fits</td>\n      <td>753.259138</td>\n      <td>818.650003</td>\n      <td>11.758842</td>\n      <td>156.033188</td>\n      <td>F814W</td>\n      <td>1.674520e+09</td>\n      <td>iexn02e3q</td>\n      <td>2.0</td>\n      <td>02</td>\n      <td>179.0</td>\n      <td>98.681168</td>\n      <td>143.217358</td>\n    </tr>\n    <tr>\n      <th>...</th>\n      <td>...</td>\n      <td>...</td>\n      <td>...</td>\n      <td>...</td>\n      <td>...</td>\n      <td>...</td>\n      <td>...</td>\n      <td>...</td>\n      <td>...</td>\n      <td>...</td>\n      <td>...</td>\n      <td>...</td>\n      <td>...</td>\n      <td>...</td>\n    </tr>\n    <tr>\n      <th>451</th>\n      <td>J041548.09+291132.9</td>\n      <td>iexn59efq_flc.fits</td>\n      <td>760.651206</td>\n      <td>820.946803</td>\n      <td>5.253157</td>\n      <td>1019.242554</td>\n      <td>F814W</td>\n      <td>1.692057e+09</td>\n      <td>iexn59efq</td>\n      <td>2.0</td>\n      <td>59</td>\n      <td>178.0</td>\n      <td>82.072319</td>\n      <td>126.584019</td>\n    </tr>\n    <tr>\n      <th>456</th>\n      <td>J042728.00+261204.7</td>\n      <td>iexn60oiq_flc.fits</td>\n      <td>761.362280</td>\n      <td>816.845404</td>\n      <td>3.816556</td>\n      <td>1277.799561</td>\n      <td>F814W</td>\n      <td>1.692221e+09</td>\n      <td>iexn60oiq</td>\n      <td>2.0</td>\n      <td>60</td>\n      <td>178.0</td>\n      <td>82.269096</td>\n      <td>126.769092</td>\n    </tr>\n    <tr>\n      <th>457</th>\n      <td>J042728.00+261204.7</td>\n      <td>iexn60ojq_flc.fits</td>\n      <td>765.417200</td>\n      <td>818.406052</td>\n      <td>0.582180</td>\n      <td>1303.087524</td>\n      <td>F814W</td>\n      <td>1.692222e+09</td>\n      <td>iexn60ojq</td>\n      <td>2.0</td>\n      <td>60</td>\n      <td>178.0</td>\n      <td>82.269081</td>\n      <td>126.770620</td>\n    </tr>\n    <tr>\n      <th>458</th>\n      <td>J042728.00+261204.7</td>\n      <td>iexn60okq_flc.fits</td>\n      <td>763.841568</td>\n      <td>820.861524</td>\n      <td>3.087116</td>\n      <td>1275.769409</td>\n      <td>F814W</td>\n      <td>1.692222e+09</td>\n      <td>iexn60okq</td>\n      <td>2.0</td>\n      <td>60</td>\n      <td>178.0</td>\n      <td>82.269073</td>\n      <td>126.770873</td>\n    </tr>\n    <tr>\n      <th>459</th>\n      <td>J042728.00+261204.7</td>\n      <td>iexn60olq_flc.fits</td>\n      <td>759.869457</td>\n      <td>819.409412</td>\n      <td>5.320613</td>\n      <td>1309.979614</td>\n      <td>F814W</td>\n      <td>1.692223e+09</td>\n      <td>iexn60olq</td>\n      <td>2.0</td>\n      <td>60</td>\n      <td>178.0</td>\n      <td>82.269096</td>\n      <td>126.775930</td>\n    </tr>\n  </tbody>\n</table>\n<p>208 rows × 14 columns</p>\n</div>"
     },
     "execution_count": 7,
     "metadata": {},
     "output_type": "execute_result"
    }
   ],
   "source": [
    "mvs_target_df.loc[mvs_target_df.filters=='F814W']"
   ],
   "metadata": {
    "collapsed": false,
    "ExecuteTime": {
     "end_time": "2024-03-13T20:50:57.098517Z",
     "start_time": "2024-03-13T20:50:57.072676Z"
    }
   },
   "id": "86307d2edf8d28e5"
  },
  {
   "cell_type": "code",
   "execution_count": 8,
   "outputs": [
    {
     "data": {
      "text/plain": "                  TARGET                file           x           y  \\\n0    J161754.11-232606.1  iexn12jvq_flc.fits  759.949707  821.036717   \n5    J164636.12-231337.6  iexn01p1q_flc.fits  759.860639  815.166881   \n6    J164636.12-231337.6  iexn01p2q_flc.fits  763.990396  816.515541   \n7    J164636.12-231337.6  iexn01p3q_flc.fits  762.374175  819.081710   \n8    J164636.12-231337.6  iexn01p4q_flc.fits  758.327324  817.628554   \n..                   ...                 ...         ...         ...   \n455  J041548.09+291132.9  iexn59ekq_flc.fits  760.417937  821.219986   \n460  J042728.00+261204.7  iexn60omq_flc.fits  761.124038  817.287748   \n461  J042728.00+261204.7  iexn60onq_flc.fits  765.226449  818.745160   \n462  J042728.00+261204.7  iexn60osq_flc.fits  763.572052  821.280073   \n463  J042728.00+261204.7  iexn60otq_flc.fits  759.590209  819.827968   \n\n         dist          snr filters      unittime   fitsroot  ccd visit  \\\n0    5.892971    82.648369  F850LP  1.679281e+09  iexn12jvq  2.0    12   \n5    5.868526   225.692688  F850LP  1.678949e+09  iexn01p1q  2.0    01   \n6    1.795249   207.028275  F850LP  1.678949e+09  iexn01p2q  2.0    01   \n7    2.839904   220.992935  F850LP  1.678950e+09  iexn01p3q  2.0    01   \n8    6.683007   212.522461  F850LP  1.678950e+09  iexn01p4q  2.0    01   \n..        ...          ...     ...           ...        ...  ...   ...   \n455  5.600323   899.192871  F850LP  1.692062e+09  iexn59ekq  2.0    59   \n460  3.940861  1232.124512  F850LP  1.692223e+09  iexn60omq  2.0    60   \n461  0.778809  1284.783569  F850LP  1.692223e+09  iexn60onq  2.0    60   \n462  3.577417  1178.333008  F850LP  1.692227e+09  iexn60osq  2.0    60   \n463  5.710281  1252.232666  F850LP  1.692227e+09  iexn60otq  2.0    60   \n\n     exptime        pav3        rota  \n0      178.0  100.685303  145.215740  \n5      178.0   97.360497  141.890553  \n6      178.0   97.360527  141.890804  \n7      178.0   97.360527  141.890573  \n8      178.0   97.360497  141.891097  \n..       ...         ...         ...  \n455    178.0   82.072319  126.581022  \n460    178.0   82.269096  126.782502  \n461    178.0   82.269081  126.780277  \n462    178.0   82.269073  126.782875  \n463    178.0   82.269096  126.781152  \n\n[204 rows x 14 columns]",
      "text/html": "<div>\n<style scoped>\n    .dataframe tbody tr th:only-of-type {\n        vertical-align: middle;\n    }\n\n    .dataframe tbody tr th {\n        vertical-align: top;\n    }\n\n    .dataframe thead th {\n        text-align: right;\n    }\n</style>\n<table border=\"1\" class=\"dataframe\">\n  <thead>\n    <tr style=\"text-align: right;\">\n      <th></th>\n      <th>TARGET</th>\n      <th>file</th>\n      <th>x</th>\n      <th>y</th>\n      <th>dist</th>\n      <th>snr</th>\n      <th>filters</th>\n      <th>unittime</th>\n      <th>fitsroot</th>\n      <th>ccd</th>\n      <th>visit</th>\n      <th>exptime</th>\n      <th>pav3</th>\n      <th>rota</th>\n    </tr>\n  </thead>\n  <tbody>\n    <tr>\n      <th>0</th>\n      <td>J161754.11-232606.1</td>\n      <td>iexn12jvq_flc.fits</td>\n      <td>759.949707</td>\n      <td>821.036717</td>\n      <td>5.892971</td>\n      <td>82.648369</td>\n      <td>F850LP</td>\n      <td>1.679281e+09</td>\n      <td>iexn12jvq</td>\n      <td>2.0</td>\n      <td>12</td>\n      <td>178.0</td>\n      <td>100.685303</td>\n      <td>145.215740</td>\n    </tr>\n    <tr>\n      <th>5</th>\n      <td>J164636.12-231337.6</td>\n      <td>iexn01p1q_flc.fits</td>\n      <td>759.860639</td>\n      <td>815.166881</td>\n      <td>5.868526</td>\n      <td>225.692688</td>\n      <td>F850LP</td>\n      <td>1.678949e+09</td>\n      <td>iexn01p1q</td>\n      <td>2.0</td>\n      <td>01</td>\n      <td>178.0</td>\n      <td>97.360497</td>\n      <td>141.890553</td>\n    </tr>\n    <tr>\n      <th>6</th>\n      <td>J164636.12-231337.6</td>\n      <td>iexn01p2q_flc.fits</td>\n      <td>763.990396</td>\n      <td>816.515541</td>\n      <td>1.795249</td>\n      <td>207.028275</td>\n      <td>F850LP</td>\n      <td>1.678949e+09</td>\n      <td>iexn01p2q</td>\n      <td>2.0</td>\n      <td>01</td>\n      <td>178.0</td>\n      <td>97.360527</td>\n      <td>141.890804</td>\n    </tr>\n    <tr>\n      <th>7</th>\n      <td>J164636.12-231337.6</td>\n      <td>iexn01p3q_flc.fits</td>\n      <td>762.374175</td>\n      <td>819.081710</td>\n      <td>2.839904</td>\n      <td>220.992935</td>\n      <td>F850LP</td>\n      <td>1.678950e+09</td>\n      <td>iexn01p3q</td>\n      <td>2.0</td>\n      <td>01</td>\n      <td>178.0</td>\n      <td>97.360527</td>\n      <td>141.890573</td>\n    </tr>\n    <tr>\n      <th>8</th>\n      <td>J164636.12-231337.6</td>\n      <td>iexn01p4q_flc.fits</td>\n      <td>758.327324</td>\n      <td>817.628554</td>\n      <td>6.683007</td>\n      <td>212.522461</td>\n      <td>F850LP</td>\n      <td>1.678950e+09</td>\n      <td>iexn01p4q</td>\n      <td>2.0</td>\n      <td>01</td>\n      <td>178.0</td>\n      <td>97.360497</td>\n      <td>141.891097</td>\n    </tr>\n    <tr>\n      <th>...</th>\n      <td>...</td>\n      <td>...</td>\n      <td>...</td>\n      <td>...</td>\n      <td>...</td>\n      <td>...</td>\n      <td>...</td>\n      <td>...</td>\n      <td>...</td>\n      <td>...</td>\n      <td>...</td>\n      <td>...</td>\n      <td>...</td>\n      <td>...</td>\n    </tr>\n    <tr>\n      <th>455</th>\n      <td>J041548.09+291132.9</td>\n      <td>iexn59ekq_flc.fits</td>\n      <td>760.417937</td>\n      <td>821.219986</td>\n      <td>5.600323</td>\n      <td>899.192871</td>\n      <td>F850LP</td>\n      <td>1.692062e+09</td>\n      <td>iexn59ekq</td>\n      <td>2.0</td>\n      <td>59</td>\n      <td>178.0</td>\n      <td>82.072319</td>\n      <td>126.581022</td>\n    </tr>\n    <tr>\n      <th>460</th>\n      <td>J042728.00+261204.7</td>\n      <td>iexn60omq_flc.fits</td>\n      <td>761.124038</td>\n      <td>817.287748</td>\n      <td>3.940861</td>\n      <td>1232.124512</td>\n      <td>F850LP</td>\n      <td>1.692223e+09</td>\n      <td>iexn60omq</td>\n      <td>2.0</td>\n      <td>60</td>\n      <td>178.0</td>\n      <td>82.269096</td>\n      <td>126.782502</td>\n    </tr>\n    <tr>\n      <th>461</th>\n      <td>J042728.00+261204.7</td>\n      <td>iexn60onq_flc.fits</td>\n      <td>765.226449</td>\n      <td>818.745160</td>\n      <td>0.778809</td>\n      <td>1284.783569</td>\n      <td>F850LP</td>\n      <td>1.692223e+09</td>\n      <td>iexn60onq</td>\n      <td>2.0</td>\n      <td>60</td>\n      <td>178.0</td>\n      <td>82.269081</td>\n      <td>126.780277</td>\n    </tr>\n    <tr>\n      <th>462</th>\n      <td>J042728.00+261204.7</td>\n      <td>iexn60osq_flc.fits</td>\n      <td>763.572052</td>\n      <td>821.280073</td>\n      <td>3.577417</td>\n      <td>1178.333008</td>\n      <td>F850LP</td>\n      <td>1.692227e+09</td>\n      <td>iexn60osq</td>\n      <td>2.0</td>\n      <td>60</td>\n      <td>178.0</td>\n      <td>82.269073</td>\n      <td>126.782875</td>\n    </tr>\n    <tr>\n      <th>463</th>\n      <td>J042728.00+261204.7</td>\n      <td>iexn60otq_flc.fits</td>\n      <td>759.590209</td>\n      <td>819.827968</td>\n      <td>5.710281</td>\n      <td>1252.232666</td>\n      <td>F850LP</td>\n      <td>1.692227e+09</td>\n      <td>iexn60otq</td>\n      <td>2.0</td>\n      <td>60</td>\n      <td>178.0</td>\n      <td>82.269096</td>\n      <td>126.781152</td>\n    </tr>\n  </tbody>\n</table>\n<p>204 rows × 14 columns</p>\n</div>"
     },
     "execution_count": 8,
     "metadata": {},
     "output_type": "execute_result"
    }
   ],
   "source": [
    "mvs_target_df.loc[mvs_target_df.filters=='F850LP']"
   ],
   "metadata": {
    "collapsed": false,
    "ExecuteTime": {
     "end_time": "2024-03-13T20:50:58.294862Z",
     "start_time": "2024-03-13T20:50:58.262869Z"
    }
   },
   "id": "61836500373b0276"
  },
  {
   "cell_type": "code",
   "execution_count": 9,
   "outputs": [
    {
     "data": {
      "text/plain": "                  TARGET                file           x           y  \\\n0    J161754.11-232606.1  iexn12jvq_flc.fits  759.949707  821.036717   \n1    J164636.12-231337.6  iexn01oxq_flc.fits  760.166750  814.764820   \n2    J164636.12-231337.6  iexn01oyq_flc.fits  764.116000  816.179947   \n3    J164636.12-231337.6  iexn01ozq_flc.fits  762.529002  818.684984   \n4    J164636.12-231337.6  iexn01p0q_flc.fits  758.590255  817.187352   \n..                   ...                 ...         ...         ...   \n459  J042728.00+261204.7  iexn60olq_flc.fits  759.869457  819.409412   \n460  J042728.00+261204.7  iexn60omq_flc.fits  761.124038  817.287748   \n461  J042728.00+261204.7  iexn60onq_flc.fits  765.226449  818.745160   \n462  J042728.00+261204.7  iexn60osq_flc.fits  763.572052  821.280073   \n463  J042728.00+261204.7  iexn60otq_flc.fits  759.590209  819.827968   \n\n         dist          snr filters      unittime   fitsroot  ccd visit  \\\n0    5.892971    82.648369  F850LP  1.679281e+09  iexn12jvq  2.0    12   \n1    5.816072   301.423645   F814W  1.678947e+09  iexn01oxq  2.0    01   \n2    2.023375   282.925293   F814W  1.678948e+09  iexn01oyq  2.0    01   \n3    2.564182   289.122620   F814W  1.678948e+09  iexn01ozq  2.0    01   \n4    6.461054   284.427185   F814W  1.678948e+09  iexn01p0q  2.0    01   \n..        ...          ...     ...           ...        ...  ...   ...   \n459  5.320613  1309.979614   F814W  1.692223e+09  iexn60olq  2.0    60   \n460  3.940861  1232.124512  F850LP  1.692223e+09  iexn60omq  2.0    60   \n461  0.778809  1284.783569  F850LP  1.692223e+09  iexn60onq  2.0    60   \n462  3.577417  1178.333008  F850LP  1.692227e+09  iexn60osq  2.0    60   \n463  5.710281  1252.232666  F850LP  1.692227e+09  iexn60otq  2.0    60   \n\n     exptime        pav3        rota  \n0      178.0  100.685303  145.215740  \n1      178.0   97.360497  141.896045  \n2      178.0   97.360527  141.896429  \n3      178.0   97.360527  141.895127  \n4      178.0   97.360497  141.896259  \n..       ...         ...         ...  \n459    178.0   82.269096  126.775930  \n460    178.0   82.269096  126.782502  \n461    178.0   82.269081  126.780277  \n462    178.0   82.269073  126.782875  \n463    178.0   82.269096  126.781152  \n\n[464 rows x 14 columns]",
      "text/html": "<div>\n<style scoped>\n    .dataframe tbody tr th:only-of-type {\n        vertical-align: middle;\n    }\n\n    .dataframe tbody tr th {\n        vertical-align: top;\n    }\n\n    .dataframe thead th {\n        text-align: right;\n    }\n</style>\n<table border=\"1\" class=\"dataframe\">\n  <thead>\n    <tr style=\"text-align: right;\">\n      <th></th>\n      <th>TARGET</th>\n      <th>file</th>\n      <th>x</th>\n      <th>y</th>\n      <th>dist</th>\n      <th>snr</th>\n      <th>filters</th>\n      <th>unittime</th>\n      <th>fitsroot</th>\n      <th>ccd</th>\n      <th>visit</th>\n      <th>exptime</th>\n      <th>pav3</th>\n      <th>rota</th>\n    </tr>\n  </thead>\n  <tbody>\n    <tr>\n      <th>0</th>\n      <td>J161754.11-232606.1</td>\n      <td>iexn12jvq_flc.fits</td>\n      <td>759.949707</td>\n      <td>821.036717</td>\n      <td>5.892971</td>\n      <td>82.648369</td>\n      <td>F850LP</td>\n      <td>1.679281e+09</td>\n      <td>iexn12jvq</td>\n      <td>2.0</td>\n      <td>12</td>\n      <td>178.0</td>\n      <td>100.685303</td>\n      <td>145.215740</td>\n    </tr>\n    <tr>\n      <th>1</th>\n      <td>J164636.12-231337.6</td>\n      <td>iexn01oxq_flc.fits</td>\n      <td>760.166750</td>\n      <td>814.764820</td>\n      <td>5.816072</td>\n      <td>301.423645</td>\n      <td>F814W</td>\n      <td>1.678947e+09</td>\n      <td>iexn01oxq</td>\n      <td>2.0</td>\n      <td>01</td>\n      <td>178.0</td>\n      <td>97.360497</td>\n      <td>141.896045</td>\n    </tr>\n    <tr>\n      <th>2</th>\n      <td>J164636.12-231337.6</td>\n      <td>iexn01oyq_flc.fits</td>\n      <td>764.116000</td>\n      <td>816.179947</td>\n      <td>2.023375</td>\n      <td>282.925293</td>\n      <td>F814W</td>\n      <td>1.678948e+09</td>\n      <td>iexn01oyq</td>\n      <td>2.0</td>\n      <td>01</td>\n      <td>178.0</td>\n      <td>97.360527</td>\n      <td>141.896429</td>\n    </tr>\n    <tr>\n      <th>3</th>\n      <td>J164636.12-231337.6</td>\n      <td>iexn01ozq_flc.fits</td>\n      <td>762.529002</td>\n      <td>818.684984</td>\n      <td>2.564182</td>\n      <td>289.122620</td>\n      <td>F814W</td>\n      <td>1.678948e+09</td>\n      <td>iexn01ozq</td>\n      <td>2.0</td>\n      <td>01</td>\n      <td>178.0</td>\n      <td>97.360527</td>\n      <td>141.895127</td>\n    </tr>\n    <tr>\n      <th>4</th>\n      <td>J164636.12-231337.6</td>\n      <td>iexn01p0q_flc.fits</td>\n      <td>758.590255</td>\n      <td>817.187352</td>\n      <td>6.461054</td>\n      <td>284.427185</td>\n      <td>F814W</td>\n      <td>1.678948e+09</td>\n      <td>iexn01p0q</td>\n      <td>2.0</td>\n      <td>01</td>\n      <td>178.0</td>\n      <td>97.360497</td>\n      <td>141.896259</td>\n    </tr>\n    <tr>\n      <th>...</th>\n      <td>...</td>\n      <td>...</td>\n      <td>...</td>\n      <td>...</td>\n      <td>...</td>\n      <td>...</td>\n      <td>...</td>\n      <td>...</td>\n      <td>...</td>\n      <td>...</td>\n      <td>...</td>\n      <td>...</td>\n      <td>...</td>\n      <td>...</td>\n    </tr>\n    <tr>\n      <th>459</th>\n      <td>J042728.00+261204.7</td>\n      <td>iexn60olq_flc.fits</td>\n      <td>759.869457</td>\n      <td>819.409412</td>\n      <td>5.320613</td>\n      <td>1309.979614</td>\n      <td>F814W</td>\n      <td>1.692223e+09</td>\n      <td>iexn60olq</td>\n      <td>2.0</td>\n      <td>60</td>\n      <td>178.0</td>\n      <td>82.269096</td>\n      <td>126.775930</td>\n    </tr>\n    <tr>\n      <th>460</th>\n      <td>J042728.00+261204.7</td>\n      <td>iexn60omq_flc.fits</td>\n      <td>761.124038</td>\n      <td>817.287748</td>\n      <td>3.940861</td>\n      <td>1232.124512</td>\n      <td>F850LP</td>\n      <td>1.692223e+09</td>\n      <td>iexn60omq</td>\n      <td>2.0</td>\n      <td>60</td>\n      <td>178.0</td>\n      <td>82.269096</td>\n      <td>126.782502</td>\n    </tr>\n    <tr>\n      <th>461</th>\n      <td>J042728.00+261204.7</td>\n      <td>iexn60onq_flc.fits</td>\n      <td>765.226449</td>\n      <td>818.745160</td>\n      <td>0.778809</td>\n      <td>1284.783569</td>\n      <td>F850LP</td>\n      <td>1.692223e+09</td>\n      <td>iexn60onq</td>\n      <td>2.0</td>\n      <td>60</td>\n      <td>178.0</td>\n      <td>82.269081</td>\n      <td>126.780277</td>\n    </tr>\n    <tr>\n      <th>462</th>\n      <td>J042728.00+261204.7</td>\n      <td>iexn60osq_flc.fits</td>\n      <td>763.572052</td>\n      <td>821.280073</td>\n      <td>3.577417</td>\n      <td>1178.333008</td>\n      <td>F850LP</td>\n      <td>1.692227e+09</td>\n      <td>iexn60osq</td>\n      <td>2.0</td>\n      <td>60</td>\n      <td>178.0</td>\n      <td>82.269073</td>\n      <td>126.782875</td>\n    </tr>\n    <tr>\n      <th>463</th>\n      <td>J042728.00+261204.7</td>\n      <td>iexn60otq_flc.fits</td>\n      <td>759.590209</td>\n      <td>819.827968</td>\n      <td>5.710281</td>\n      <td>1252.232666</td>\n      <td>F850LP</td>\n      <td>1.692227e+09</td>\n      <td>iexn60otq</td>\n      <td>2.0</td>\n      <td>60</td>\n      <td>178.0</td>\n      <td>82.269096</td>\n      <td>126.781152</td>\n    </tr>\n  </tbody>\n</table>\n<p>464 rows × 14 columns</p>\n</div>"
     },
     "execution_count": 9,
     "metadata": {},
     "output_type": "execute_result"
    }
   ],
   "source": [
    "mvs_target_df.loc[~mvs_target_df.x.isna()]"
   ],
   "metadata": {
    "collapsed": false,
    "ExecuteTime": {
     "end_time": "2024-03-13T20:51:02.368112Z",
     "start_time": "2024-03-13T20:51:02.334206Z"
    }
   },
   "id": "e966662ca497834b"
  },
  {
   "cell_type": "code",
   "execution_count": 10,
   "outputs": [],
   "source": [
    "elno=0\n",
    "# mvs_target_df['avg_ids'] = np.nan\n",
    "for TARGET in mvs_target_df.TARGET.unique():\n",
    "    mvs_target_df.loc[mvs_target_df.TARGET == TARGET, 'avg_ids'] = int(elno)\n",
    "    elno+=1"
   ],
   "metadata": {
    "collapsed": false,
    "ExecuteTime": {
     "end_time": "2024-03-13T20:51:10.825722Z",
     "start_time": "2024-03-13T20:51:10.796932Z"
    }
   },
   "id": "a26934e666679a0e"
  },
  {
   "cell_type": "code",
   "execution_count": 11,
   "outputs": [],
   "source": [
    "mvs_target_df = mvs_target_df.sort_values(['avg_ids','filters'])[['avg_ids', 'TARGET', 'file', 'x', 'y', 'dist', 'snr', 'filters','unittime','fitsroot','ccd','visit','exptime','pav3','rota']]"
   ],
   "metadata": {
    "collapsed": false,
    "ExecuteTime": {
     "end_time": "2024-03-13T20:51:12.932286Z",
     "start_time": "2024-03-13T20:51:12.906658Z"
    }
   },
   "id": "34f41f2a36787a83"
  },
  {
   "cell_type": "code",
   "execution_count": 12,
   "outputs": [
    {
     "data": {
      "text/plain": "     avg_ids               TARGET                file           x           y  \\\n89       0.0  J161754.11-232606.1  iexn12jpq_flc.fits  757.574858  816.657408   \n90       0.0  J161754.11-232606.1  iexn12jqq_flc.fits  761.654031  818.049830   \n91       0.0  J161754.11-232606.1  iexn12jrq_flc.fits  760.134278  820.624555   \n92       0.0  J161754.11-232606.1  iexn12jsq_flc.fits  756.183371  819.160424   \n1        1.0  J164636.12-231337.6  iexn01oxq_flc.fits  760.166750  814.764820   \n..       ...                  ...                 ...         ...         ...   \n451     56.0  J041548.09+291132.9  iexn59efq_flc.fits  760.651206  820.946803   \n456     57.0  J042728.00+261204.7  iexn60oiq_flc.fits  761.362280  816.845404   \n457     57.0  J042728.00+261204.7  iexn60ojq_flc.fits  765.417200  818.406052   \n458     57.0  J042728.00+261204.7  iexn60okq_flc.fits  763.841568  820.861524   \n459     57.0  J042728.00+261204.7  iexn60olq_flc.fits  759.869457  819.409412   \n\n         dist          snr filters      unittime   fitsroot  ccd visit  \\\n89   7.545547    87.489143   F814W  1.679278e+09  iexn12jpq  2.0    12   \n90   3.346340    91.702492   F814W  1.679279e+09  iexn12jqq  2.0    12   \n91   5.528430    90.594002   F814W  1.679279e+09  iexn12jrq  2.0    12   \n92   8.892668    87.450500   F814W  1.679279e+09  iexn12jsq  2.0    12   \n1    5.816072   301.423645   F814W  1.678947e+09  iexn01oxq  2.0    01   \n..        ...          ...     ...           ...        ...  ...   ...   \n451  5.253157  1019.242554   F814W  1.692057e+09  iexn59efq  2.0    59   \n456  3.816556  1277.799561   F814W  1.692221e+09  iexn60oiq  2.0    60   \n457  0.582180  1303.087524   F814W  1.692222e+09  iexn60ojq  2.0    60   \n458  3.087116  1275.769409   F814W  1.692222e+09  iexn60okq  2.0    60   \n459  5.320613  1309.979614   F814W  1.692223e+09  iexn60olq  2.0    60   \n\n     exptime        pav3        rota  \n89     178.0  100.685204  145.216510  \n90     178.0  100.685303  145.217300  \n91     178.0  100.685303  145.217636  \n92     178.0  100.685204  145.217041  \n1      178.0   97.360497  141.896045  \n..       ...         ...         ...  \n451    178.0   82.072319  126.584019  \n456    178.0   82.269096  126.769092  \n457    178.0   82.269081  126.770620  \n458    178.0   82.269073  126.770873  \n459    178.0   82.269096  126.775930  \n\n[208 rows x 15 columns]",
      "text/html": "<div>\n<style scoped>\n    .dataframe tbody tr th:only-of-type {\n        vertical-align: middle;\n    }\n\n    .dataframe tbody tr th {\n        vertical-align: top;\n    }\n\n    .dataframe thead th {\n        text-align: right;\n    }\n</style>\n<table border=\"1\" class=\"dataframe\">\n  <thead>\n    <tr style=\"text-align: right;\">\n      <th></th>\n      <th>avg_ids</th>\n      <th>TARGET</th>\n      <th>file</th>\n      <th>x</th>\n      <th>y</th>\n      <th>dist</th>\n      <th>snr</th>\n      <th>filters</th>\n      <th>unittime</th>\n      <th>fitsroot</th>\n      <th>ccd</th>\n      <th>visit</th>\n      <th>exptime</th>\n      <th>pav3</th>\n      <th>rota</th>\n    </tr>\n  </thead>\n  <tbody>\n    <tr>\n      <th>89</th>\n      <td>0.0</td>\n      <td>J161754.11-232606.1</td>\n      <td>iexn12jpq_flc.fits</td>\n      <td>757.574858</td>\n      <td>816.657408</td>\n      <td>7.545547</td>\n      <td>87.489143</td>\n      <td>F814W</td>\n      <td>1.679278e+09</td>\n      <td>iexn12jpq</td>\n      <td>2.0</td>\n      <td>12</td>\n      <td>178.0</td>\n      <td>100.685204</td>\n      <td>145.216510</td>\n    </tr>\n    <tr>\n      <th>90</th>\n      <td>0.0</td>\n      <td>J161754.11-232606.1</td>\n      <td>iexn12jqq_flc.fits</td>\n      <td>761.654031</td>\n      <td>818.049830</td>\n      <td>3.346340</td>\n      <td>91.702492</td>\n      <td>F814W</td>\n      <td>1.679279e+09</td>\n      <td>iexn12jqq</td>\n      <td>2.0</td>\n      <td>12</td>\n      <td>178.0</td>\n      <td>100.685303</td>\n      <td>145.217300</td>\n    </tr>\n    <tr>\n      <th>91</th>\n      <td>0.0</td>\n      <td>J161754.11-232606.1</td>\n      <td>iexn12jrq_flc.fits</td>\n      <td>760.134278</td>\n      <td>820.624555</td>\n      <td>5.528430</td>\n      <td>90.594002</td>\n      <td>F814W</td>\n      <td>1.679279e+09</td>\n      <td>iexn12jrq</td>\n      <td>2.0</td>\n      <td>12</td>\n      <td>178.0</td>\n      <td>100.685303</td>\n      <td>145.217636</td>\n    </tr>\n    <tr>\n      <th>92</th>\n      <td>0.0</td>\n      <td>J161754.11-232606.1</td>\n      <td>iexn12jsq_flc.fits</td>\n      <td>756.183371</td>\n      <td>819.160424</td>\n      <td>8.892668</td>\n      <td>87.450500</td>\n      <td>F814W</td>\n      <td>1.679279e+09</td>\n      <td>iexn12jsq</td>\n      <td>2.0</td>\n      <td>12</td>\n      <td>178.0</td>\n      <td>100.685204</td>\n      <td>145.217041</td>\n    </tr>\n    <tr>\n      <th>1</th>\n      <td>1.0</td>\n      <td>J164636.12-231337.6</td>\n      <td>iexn01oxq_flc.fits</td>\n      <td>760.166750</td>\n      <td>814.764820</td>\n      <td>5.816072</td>\n      <td>301.423645</td>\n      <td>F814W</td>\n      <td>1.678947e+09</td>\n      <td>iexn01oxq</td>\n      <td>2.0</td>\n      <td>01</td>\n      <td>178.0</td>\n      <td>97.360497</td>\n      <td>141.896045</td>\n    </tr>\n    <tr>\n      <th>...</th>\n      <td>...</td>\n      <td>...</td>\n      <td>...</td>\n      <td>...</td>\n      <td>...</td>\n      <td>...</td>\n      <td>...</td>\n      <td>...</td>\n      <td>...</td>\n      <td>...</td>\n      <td>...</td>\n      <td>...</td>\n      <td>...</td>\n      <td>...</td>\n      <td>...</td>\n    </tr>\n    <tr>\n      <th>451</th>\n      <td>56.0</td>\n      <td>J041548.09+291132.9</td>\n      <td>iexn59efq_flc.fits</td>\n      <td>760.651206</td>\n      <td>820.946803</td>\n      <td>5.253157</td>\n      <td>1019.242554</td>\n      <td>F814W</td>\n      <td>1.692057e+09</td>\n      <td>iexn59efq</td>\n      <td>2.0</td>\n      <td>59</td>\n      <td>178.0</td>\n      <td>82.072319</td>\n      <td>126.584019</td>\n    </tr>\n    <tr>\n      <th>456</th>\n      <td>57.0</td>\n      <td>J042728.00+261204.7</td>\n      <td>iexn60oiq_flc.fits</td>\n      <td>761.362280</td>\n      <td>816.845404</td>\n      <td>3.816556</td>\n      <td>1277.799561</td>\n      <td>F814W</td>\n      <td>1.692221e+09</td>\n      <td>iexn60oiq</td>\n      <td>2.0</td>\n      <td>60</td>\n      <td>178.0</td>\n      <td>82.269096</td>\n      <td>126.769092</td>\n    </tr>\n    <tr>\n      <th>457</th>\n      <td>57.0</td>\n      <td>J042728.00+261204.7</td>\n      <td>iexn60ojq_flc.fits</td>\n      <td>765.417200</td>\n      <td>818.406052</td>\n      <td>0.582180</td>\n      <td>1303.087524</td>\n      <td>F814W</td>\n      <td>1.692222e+09</td>\n      <td>iexn60ojq</td>\n      <td>2.0</td>\n      <td>60</td>\n      <td>178.0</td>\n      <td>82.269081</td>\n      <td>126.770620</td>\n    </tr>\n    <tr>\n      <th>458</th>\n      <td>57.0</td>\n      <td>J042728.00+261204.7</td>\n      <td>iexn60okq_flc.fits</td>\n      <td>763.841568</td>\n      <td>820.861524</td>\n      <td>3.087116</td>\n      <td>1275.769409</td>\n      <td>F814W</td>\n      <td>1.692222e+09</td>\n      <td>iexn60okq</td>\n      <td>2.0</td>\n      <td>60</td>\n      <td>178.0</td>\n      <td>82.269073</td>\n      <td>126.770873</td>\n    </tr>\n    <tr>\n      <th>459</th>\n      <td>57.0</td>\n      <td>J042728.00+261204.7</td>\n      <td>iexn60olq_flc.fits</td>\n      <td>759.869457</td>\n      <td>819.409412</td>\n      <td>5.320613</td>\n      <td>1309.979614</td>\n      <td>F814W</td>\n      <td>1.692223e+09</td>\n      <td>iexn60olq</td>\n      <td>2.0</td>\n      <td>60</td>\n      <td>178.0</td>\n      <td>82.269096</td>\n      <td>126.775930</td>\n    </tr>\n  </tbody>\n</table>\n<p>208 rows × 15 columns</p>\n</div>"
     },
     "execution_count": 12,
     "metadata": {},
     "output_type": "execute_result"
    }
   ],
   "source": [
    "mvs_target_df.loc[~mvs_target_df.x.isna()&(mvs_target_df.filters=='F814W')]"
   ],
   "metadata": {
    "collapsed": false,
    "ExecuteTime": {
     "end_time": "2024-03-13T20:51:13.962952Z",
     "start_time": "2024-03-13T20:51:13.933623Z"
    }
   },
   "id": "655ae68b9132aac0"
  },
  {
   "cell_type": "code",
   "execution_count": 13,
   "outputs": [
    {
     "data": {
      "text/plain": "     avg_ids               TARGET                file           x           y  \\\n0        0.0  J161754.11-232606.1  iexn12jvq_flc.fits  759.949707  821.036717   \n93       0.0  J161754.11-232606.1  iexn12jtq_flc.fits  757.310277  817.015676   \n94       0.0  J161754.11-232606.1  iexn12juq_flc.fits  761.477535  818.464391   \n95       0.0  J161754.11-232606.1  iexn12jwq_flc.fits  755.988511  819.732338   \n5        1.0  J164636.12-231337.6  iexn01p1q_flc.fits  759.860639  815.166881   \n..       ...                  ...                 ...         ...         ...   \n455     56.0  J041548.09+291132.9  iexn59ekq_flc.fits  760.417937  821.219986   \n460     57.0  J042728.00+261204.7  iexn60omq_flc.fits  761.124038  817.287748   \n461     57.0  J042728.00+261204.7  iexn60onq_flc.fits  765.226449  818.745160   \n462     57.0  J042728.00+261204.7  iexn60osq_flc.fits  763.572052  821.280073   \n463     57.0  J042728.00+261204.7  iexn60otq_flc.fits  759.590209  819.827968   \n\n         dist          snr filters      unittime   fitsroot  ccd visit  \\\n0    5.892971    82.648369  F850LP  1.679281e+09  iexn12jvq  2.0    12   \n93   7.752466    73.934082  F850LP  1.679280e+09  iexn12jtq  2.0    12   \n94   3.552945    75.822121  F850LP  1.679280e+09  iexn12juq  2.0    12   \n95   9.176488    67.658142  F850LP  1.679281e+09  iexn12jwq  2.0    12   \n5    5.868526   225.692688  F850LP  1.678949e+09  iexn01p1q  2.0    01   \n..        ...          ...     ...           ...        ...  ...   ...   \n455  5.600323   899.192871  F850LP  1.692062e+09  iexn59ekq  2.0    59   \n460  3.940861  1232.124512  F850LP  1.692223e+09  iexn60omq  2.0    60   \n461  0.778809  1284.783569  F850LP  1.692223e+09  iexn60onq  2.0    60   \n462  3.577417  1178.333008  F850LP  1.692227e+09  iexn60osq  2.0    60   \n463  5.710281  1252.232666  F850LP  1.692227e+09  iexn60otq  2.0    60   \n\n     exptime        pav3        rota  \n0      178.0  100.685303  145.215740  \n93     178.0  100.685204  145.215840  \n94     178.0  100.685303  145.216088  \n95     178.0  100.685204  145.216598  \n5      178.0   97.360497  141.890553  \n..       ...         ...         ...  \n455    178.0   82.072319  126.581022  \n460    178.0   82.269096  126.782502  \n461    178.0   82.269081  126.780277  \n462    178.0   82.269073  126.782875  \n463    178.0   82.269096  126.781152  \n\n[204 rows x 15 columns]",
      "text/html": "<div>\n<style scoped>\n    .dataframe tbody tr th:only-of-type {\n        vertical-align: middle;\n    }\n\n    .dataframe tbody tr th {\n        vertical-align: top;\n    }\n\n    .dataframe thead th {\n        text-align: right;\n    }\n</style>\n<table border=\"1\" class=\"dataframe\">\n  <thead>\n    <tr style=\"text-align: right;\">\n      <th></th>\n      <th>avg_ids</th>\n      <th>TARGET</th>\n      <th>file</th>\n      <th>x</th>\n      <th>y</th>\n      <th>dist</th>\n      <th>snr</th>\n      <th>filters</th>\n      <th>unittime</th>\n      <th>fitsroot</th>\n      <th>ccd</th>\n      <th>visit</th>\n      <th>exptime</th>\n      <th>pav3</th>\n      <th>rota</th>\n    </tr>\n  </thead>\n  <tbody>\n    <tr>\n      <th>0</th>\n      <td>0.0</td>\n      <td>J161754.11-232606.1</td>\n      <td>iexn12jvq_flc.fits</td>\n      <td>759.949707</td>\n      <td>821.036717</td>\n      <td>5.892971</td>\n      <td>82.648369</td>\n      <td>F850LP</td>\n      <td>1.679281e+09</td>\n      <td>iexn12jvq</td>\n      <td>2.0</td>\n      <td>12</td>\n      <td>178.0</td>\n      <td>100.685303</td>\n      <td>145.215740</td>\n    </tr>\n    <tr>\n      <th>93</th>\n      <td>0.0</td>\n      <td>J161754.11-232606.1</td>\n      <td>iexn12jtq_flc.fits</td>\n      <td>757.310277</td>\n      <td>817.015676</td>\n      <td>7.752466</td>\n      <td>73.934082</td>\n      <td>F850LP</td>\n      <td>1.679280e+09</td>\n      <td>iexn12jtq</td>\n      <td>2.0</td>\n      <td>12</td>\n      <td>178.0</td>\n      <td>100.685204</td>\n      <td>145.215840</td>\n    </tr>\n    <tr>\n      <th>94</th>\n      <td>0.0</td>\n      <td>J161754.11-232606.1</td>\n      <td>iexn12juq_flc.fits</td>\n      <td>761.477535</td>\n      <td>818.464391</td>\n      <td>3.552945</td>\n      <td>75.822121</td>\n      <td>F850LP</td>\n      <td>1.679280e+09</td>\n      <td>iexn12juq</td>\n      <td>2.0</td>\n      <td>12</td>\n      <td>178.0</td>\n      <td>100.685303</td>\n      <td>145.216088</td>\n    </tr>\n    <tr>\n      <th>95</th>\n      <td>0.0</td>\n      <td>J161754.11-232606.1</td>\n      <td>iexn12jwq_flc.fits</td>\n      <td>755.988511</td>\n      <td>819.732338</td>\n      <td>9.176488</td>\n      <td>67.658142</td>\n      <td>F850LP</td>\n      <td>1.679281e+09</td>\n      <td>iexn12jwq</td>\n      <td>2.0</td>\n      <td>12</td>\n      <td>178.0</td>\n      <td>100.685204</td>\n      <td>145.216598</td>\n    </tr>\n    <tr>\n      <th>5</th>\n      <td>1.0</td>\n      <td>J164636.12-231337.6</td>\n      <td>iexn01p1q_flc.fits</td>\n      <td>759.860639</td>\n      <td>815.166881</td>\n      <td>5.868526</td>\n      <td>225.692688</td>\n      <td>F850LP</td>\n      <td>1.678949e+09</td>\n      <td>iexn01p1q</td>\n      <td>2.0</td>\n      <td>01</td>\n      <td>178.0</td>\n      <td>97.360497</td>\n      <td>141.890553</td>\n    </tr>\n    <tr>\n      <th>...</th>\n      <td>...</td>\n      <td>...</td>\n      <td>...</td>\n      <td>...</td>\n      <td>...</td>\n      <td>...</td>\n      <td>...</td>\n      <td>...</td>\n      <td>...</td>\n      <td>...</td>\n      <td>...</td>\n      <td>...</td>\n      <td>...</td>\n      <td>...</td>\n      <td>...</td>\n    </tr>\n    <tr>\n      <th>455</th>\n      <td>56.0</td>\n      <td>J041548.09+291132.9</td>\n      <td>iexn59ekq_flc.fits</td>\n      <td>760.417937</td>\n      <td>821.219986</td>\n      <td>5.600323</td>\n      <td>899.192871</td>\n      <td>F850LP</td>\n      <td>1.692062e+09</td>\n      <td>iexn59ekq</td>\n      <td>2.0</td>\n      <td>59</td>\n      <td>178.0</td>\n      <td>82.072319</td>\n      <td>126.581022</td>\n    </tr>\n    <tr>\n      <th>460</th>\n      <td>57.0</td>\n      <td>J042728.00+261204.7</td>\n      <td>iexn60omq_flc.fits</td>\n      <td>761.124038</td>\n      <td>817.287748</td>\n      <td>3.940861</td>\n      <td>1232.124512</td>\n      <td>F850LP</td>\n      <td>1.692223e+09</td>\n      <td>iexn60omq</td>\n      <td>2.0</td>\n      <td>60</td>\n      <td>178.0</td>\n      <td>82.269096</td>\n      <td>126.782502</td>\n    </tr>\n    <tr>\n      <th>461</th>\n      <td>57.0</td>\n      <td>J042728.00+261204.7</td>\n      <td>iexn60onq_flc.fits</td>\n      <td>765.226449</td>\n      <td>818.745160</td>\n      <td>0.778809</td>\n      <td>1284.783569</td>\n      <td>F850LP</td>\n      <td>1.692223e+09</td>\n      <td>iexn60onq</td>\n      <td>2.0</td>\n      <td>60</td>\n      <td>178.0</td>\n      <td>82.269081</td>\n      <td>126.780277</td>\n    </tr>\n    <tr>\n      <th>462</th>\n      <td>57.0</td>\n      <td>J042728.00+261204.7</td>\n      <td>iexn60osq_flc.fits</td>\n      <td>763.572052</td>\n      <td>821.280073</td>\n      <td>3.577417</td>\n      <td>1178.333008</td>\n      <td>F850LP</td>\n      <td>1.692227e+09</td>\n      <td>iexn60osq</td>\n      <td>2.0</td>\n      <td>60</td>\n      <td>178.0</td>\n      <td>82.269073</td>\n      <td>126.782875</td>\n    </tr>\n    <tr>\n      <th>463</th>\n      <td>57.0</td>\n      <td>J042728.00+261204.7</td>\n      <td>iexn60otq_flc.fits</td>\n      <td>759.590209</td>\n      <td>819.827968</td>\n      <td>5.710281</td>\n      <td>1252.232666</td>\n      <td>F850LP</td>\n      <td>1.692227e+09</td>\n      <td>iexn60otq</td>\n      <td>2.0</td>\n      <td>60</td>\n      <td>178.0</td>\n      <td>82.269096</td>\n      <td>126.781152</td>\n    </tr>\n  </tbody>\n</table>\n<p>204 rows × 15 columns</p>\n</div>"
     },
     "execution_count": 13,
     "metadata": {},
     "output_type": "execute_result"
    }
   ],
   "source": [
    "mvs_target_df.loc[~mvs_target_df.x.isna()&(mvs_target_df.filters=='F850LP')]"
   ],
   "metadata": {
    "collapsed": false,
    "ExecuteTime": {
     "end_time": "2024-03-13T20:51:15.675118Z",
     "start_time": "2024-03-13T20:51:15.643269Z"
    }
   },
   "id": "dab10994c026ce06"
  },
  {
   "cell_type": "code",
   "execution_count": 14,
   "outputs": [
    {
     "data": {
      "text/plain": "                  target                file  filter          ra        dec  \\\n0    J155150.21-213457.4  iexn13010_drc.fits   F814W  237.959171 -21.582686   \n1    J164636.12-231337.6  iexn01010_drc.fits   F814W  251.650498 -23.227155   \n2    J164636.12-231337.6  iexn01020_drc.fits  F850LP  251.650498 -23.227156   \n3    J155416.68-263018.1  iexn02010_drc.fits   F814W  238.569423 -26.505131   \n4    J155416.68-263018.1  iexn02020_drc.fits  F850LP  238.569423 -26.505132   \n..                   ...                 ...     ...         ...        ...   \n109  J042630.56+244355.5  iexn57020_drc.fits  F850LP   66.627360  24.732046   \n110  J041548.09+291132.9  iexn59010_drc.fits   F814W   63.950387  29.192447   \n111  J041548.09+291132.9  iexn59020_drc.fits  F850LP   63.950389  29.192447   \n112  J042728.00+261204.7  iexn60010_drc.fits   F814W   66.866684  26.201263   \n113  J042728.00+261204.7  iexn60020_drc.fits  F850LP   66.866686  26.201262   \n\n              x           y   mag_aper  e_mag_aper      dist          snr  \\\n0    766.682062  870.519962  22.277353    0.021258  1.416799   227.932175   \n1    769.100793  866.146099  20.840983    0.005901  4.008029   792.416809   \n2    768.870891  866.488792  19.749264    0.006932  3.617601   600.396423   \n3    762.415167  869.798303  21.448087    0.010977  5.588474   411.439362   \n4    762.213142  870.180384  20.330281    0.012019  5.789669   338.973694   \n..          ...         ...        ...         ...       ...          ...   \n109  772.161171  860.967594  17.388929    0.000777  9.944833  5503.881348   \n110  771.356066  869.879264  19.495704    0.001705  3.358237  2707.892578   \n111  771.125543  870.259044  18.268471    0.001755  3.136259  2408.281494   \n112  770.474934  868.194087  19.229156    0.001359  3.063759  3397.833496   \n113  770.160321  868.634002  17.932862    0.001287  2.555961  3282.342041   \n\n     avg_ids  \n0       12.0  \n1        1.0  \n2        1.0  \n3        2.0  \n4        2.0  \n..       ...  \n109     55.0  \n110     56.0  \n111     56.0  \n112     57.0  \n113     57.0  \n\n[114 rows x 12 columns]",
      "text/html": "<div>\n<style scoped>\n    .dataframe tbody tr th:only-of-type {\n        vertical-align: middle;\n    }\n\n    .dataframe tbody tr th {\n        vertical-align: top;\n    }\n\n    .dataframe thead th {\n        text-align: right;\n    }\n</style>\n<table border=\"1\" class=\"dataframe\">\n  <thead>\n    <tr style=\"text-align: right;\">\n      <th></th>\n      <th>target</th>\n      <th>file</th>\n      <th>filter</th>\n      <th>ra</th>\n      <th>dec</th>\n      <th>x</th>\n      <th>y</th>\n      <th>mag_aper</th>\n      <th>e_mag_aper</th>\n      <th>dist</th>\n      <th>snr</th>\n      <th>avg_ids</th>\n    </tr>\n  </thead>\n  <tbody>\n    <tr>\n      <th>0</th>\n      <td>J155150.21-213457.4</td>\n      <td>iexn13010_drc.fits</td>\n      <td>F814W</td>\n      <td>237.959171</td>\n      <td>-21.582686</td>\n      <td>766.682062</td>\n      <td>870.519962</td>\n      <td>22.277353</td>\n      <td>0.021258</td>\n      <td>1.416799</td>\n      <td>227.932175</td>\n      <td>12.0</td>\n    </tr>\n    <tr>\n      <th>1</th>\n      <td>J164636.12-231337.6</td>\n      <td>iexn01010_drc.fits</td>\n      <td>F814W</td>\n      <td>251.650498</td>\n      <td>-23.227155</td>\n      <td>769.100793</td>\n      <td>866.146099</td>\n      <td>20.840983</td>\n      <td>0.005901</td>\n      <td>4.008029</td>\n      <td>792.416809</td>\n      <td>1.0</td>\n    </tr>\n    <tr>\n      <th>2</th>\n      <td>J164636.12-231337.6</td>\n      <td>iexn01020_drc.fits</td>\n      <td>F850LP</td>\n      <td>251.650498</td>\n      <td>-23.227156</td>\n      <td>768.870891</td>\n      <td>866.488792</td>\n      <td>19.749264</td>\n      <td>0.006932</td>\n      <td>3.617601</td>\n      <td>600.396423</td>\n      <td>1.0</td>\n    </tr>\n    <tr>\n      <th>3</th>\n      <td>J155416.68-263018.1</td>\n      <td>iexn02010_drc.fits</td>\n      <td>F814W</td>\n      <td>238.569423</td>\n      <td>-26.505131</td>\n      <td>762.415167</td>\n      <td>869.798303</td>\n      <td>21.448087</td>\n      <td>0.010977</td>\n      <td>5.588474</td>\n      <td>411.439362</td>\n      <td>2.0</td>\n    </tr>\n    <tr>\n      <th>4</th>\n      <td>J155416.68-263018.1</td>\n      <td>iexn02020_drc.fits</td>\n      <td>F850LP</td>\n      <td>238.569423</td>\n      <td>-26.505132</td>\n      <td>762.213142</td>\n      <td>870.180384</td>\n      <td>20.330281</td>\n      <td>0.012019</td>\n      <td>5.789669</td>\n      <td>338.973694</td>\n      <td>2.0</td>\n    </tr>\n    <tr>\n      <th>...</th>\n      <td>...</td>\n      <td>...</td>\n      <td>...</td>\n      <td>...</td>\n      <td>...</td>\n      <td>...</td>\n      <td>...</td>\n      <td>...</td>\n      <td>...</td>\n      <td>...</td>\n      <td>...</td>\n      <td>...</td>\n    </tr>\n    <tr>\n      <th>109</th>\n      <td>J042630.56+244355.5</td>\n      <td>iexn57020_drc.fits</td>\n      <td>F850LP</td>\n      <td>66.627360</td>\n      <td>24.732046</td>\n      <td>772.161171</td>\n      <td>860.967594</td>\n      <td>17.388929</td>\n      <td>0.000777</td>\n      <td>9.944833</td>\n      <td>5503.881348</td>\n      <td>55.0</td>\n    </tr>\n    <tr>\n      <th>110</th>\n      <td>J041548.09+291132.9</td>\n      <td>iexn59010_drc.fits</td>\n      <td>F814W</td>\n      <td>63.950387</td>\n      <td>29.192447</td>\n      <td>771.356066</td>\n      <td>869.879264</td>\n      <td>19.495704</td>\n      <td>0.001705</td>\n      <td>3.358237</td>\n      <td>2707.892578</td>\n      <td>56.0</td>\n    </tr>\n    <tr>\n      <th>111</th>\n      <td>J041548.09+291132.9</td>\n      <td>iexn59020_drc.fits</td>\n      <td>F850LP</td>\n      <td>63.950389</td>\n      <td>29.192447</td>\n      <td>771.125543</td>\n      <td>870.259044</td>\n      <td>18.268471</td>\n      <td>0.001755</td>\n      <td>3.136259</td>\n      <td>2408.281494</td>\n      <td>56.0</td>\n    </tr>\n    <tr>\n      <th>112</th>\n      <td>J042728.00+261204.7</td>\n      <td>iexn60010_drc.fits</td>\n      <td>F814W</td>\n      <td>66.866684</td>\n      <td>26.201263</td>\n      <td>770.474934</td>\n      <td>868.194087</td>\n      <td>19.229156</td>\n      <td>0.001359</td>\n      <td>3.063759</td>\n      <td>3397.833496</td>\n      <td>57.0</td>\n    </tr>\n    <tr>\n      <th>113</th>\n      <td>J042728.00+261204.7</td>\n      <td>iexn60020_drc.fits</td>\n      <td>F850LP</td>\n      <td>66.866686</td>\n      <td>26.201262</td>\n      <td>770.160321</td>\n      <td>868.634002</td>\n      <td>17.932862</td>\n      <td>0.001287</td>\n      <td>2.555961</td>\n      <td>3282.342041</td>\n      <td>57.0</td>\n    </tr>\n  </tbody>\n</table>\n<p>114 rows × 12 columns</p>\n</div>"
     },
     "execution_count": 14,
     "metadata": {},
     "output_type": "execute_result"
    }
   ],
   "source": [
    "for target in mvs_target_df.TARGET.unique():\n",
    "    avg_target_df.loc[avg_target_df.target ==target,'avg_ids'] = mvs_target_df.loc[mvs_target_df.TARGET == target, 'avg_ids'].values[0]\n",
    "avg_target_df"
   ],
   "metadata": {
    "collapsed": false,
    "ExecuteTime": {
     "end_time": "2024-03-13T20:51:19.604893Z",
     "start_time": "2024-03-13T20:51:19.561044Z"
    }
   },
   "id": "317fd3cc130ef14d"
  },
  {
   "cell_type": "code",
   "execution_count": 15,
   "outputs": [
    {
     "name": "stderr",
     "output_type": "stream",
     "text": [
      "100%|██████████| 58/58 [00:00<00:00, 193.82it/s]\n"
     ]
    },
    {
     "data": {
      "text/plain": "    avg_ids ext visit     x_f814w     y_f814w    x_f850lp    y_f850lp  \\\n0       0.0   1    12  757.574858  816.657408  757.310277  817.015676   \n1       0.0   1    12  761.654031   818.04983  761.477535  818.464391   \n2       0.0   1    12  760.134278  820.624555  759.949707  821.036717   \n3       0.0   1    12  756.183371  819.160424  755.988511  819.732338   \n4       1.0   1    01   760.16675   814.76482  759.860639  815.166881   \n..      ...  ..   ...         ...         ...         ...         ...   \n203    56.0   1    59  760.651206  820.946803  760.417937  821.219986   \n204    57.0   1    60   761.36228  816.845404  761.124038  817.287748   \n205    57.0   1    60    765.4172  818.406052  765.226449   818.74516   \n206    57.0   1    60  763.841568  820.861524  763.572052  821.280073   \n207    57.0   1    60  759.869457  819.409412  759.590209  819.827968   \n\n    fitsroot_f814w fitsroot_f850lp exptime_f814w exptime_f850lp  pav3_f814w  \\\n0        iexn12jpq       iexn12jtq         178.0          178.0  100.685204   \n1        iexn12jqq       iexn12juq         178.0          178.0  100.685303   \n2        iexn12jrq       iexn12jvq         178.0          178.0  100.685303   \n3        iexn12jsq       iexn12jwq         178.0          178.0  100.685204   \n4        iexn01oxq       iexn01p1q         178.0          178.0   97.360497   \n..             ...             ...           ...            ...         ...   \n203      iexn59efq       iexn59ekq         178.0          178.0   82.072319   \n204      iexn60oiq       iexn60omq         178.0          178.0   82.269096   \n205      iexn60ojq       iexn60onq         178.0          178.0   82.269081   \n206      iexn60okq       iexn60osq         178.0          178.0   82.269073   \n207      iexn60olq       iexn60otq         178.0          178.0   82.269096   \n\n    pav3_f850lp  rota_f814w rota_f850lp flag_f814w flag_f850lp  \n0    100.685204   145.21651   145.21584        NaN         NaN  \n1    100.685303    145.2173  145.216088        NaN         NaN  \n2    100.685303  145.217636   145.21574        NaN         NaN  \n3    100.685204  145.217041  145.216598        NaN         NaN  \n4     97.360497  141.896045  141.890553        NaN         NaN  \n..          ...         ...         ...        ...         ...  \n203   82.072319  126.584019  126.581022        NaN         NaN  \n204   82.269096  126.769092  126.782502        NaN         NaN  \n205   82.269081   126.77062  126.780277        NaN         NaN  \n206   82.269073  126.770873  126.782875        NaN         NaN  \n207   82.269096   126.77593  126.781152        NaN         NaN  \n\n[208 rows x 17 columns]",
      "text/html": "<div>\n<style scoped>\n    .dataframe tbody tr th:only-of-type {\n        vertical-align: middle;\n    }\n\n    .dataframe tbody tr th {\n        vertical-align: top;\n    }\n\n    .dataframe thead th {\n        text-align: right;\n    }\n</style>\n<table border=\"1\" class=\"dataframe\">\n  <thead>\n    <tr style=\"text-align: right;\">\n      <th></th>\n      <th>avg_ids</th>\n      <th>ext</th>\n      <th>visit</th>\n      <th>x_f814w</th>\n      <th>y_f814w</th>\n      <th>x_f850lp</th>\n      <th>y_f850lp</th>\n      <th>fitsroot_f814w</th>\n      <th>fitsroot_f850lp</th>\n      <th>exptime_f814w</th>\n      <th>exptime_f850lp</th>\n      <th>pav3_f814w</th>\n      <th>pav3_f850lp</th>\n      <th>rota_f814w</th>\n      <th>rota_f850lp</th>\n      <th>flag_f814w</th>\n      <th>flag_f850lp</th>\n    </tr>\n  </thead>\n  <tbody>\n    <tr>\n      <th>0</th>\n      <td>0.0</td>\n      <td>1</td>\n      <td>12</td>\n      <td>757.574858</td>\n      <td>816.657408</td>\n      <td>757.310277</td>\n      <td>817.015676</td>\n      <td>iexn12jpq</td>\n      <td>iexn12jtq</td>\n      <td>178.0</td>\n      <td>178.0</td>\n      <td>100.685204</td>\n      <td>100.685204</td>\n      <td>145.21651</td>\n      <td>145.21584</td>\n      <td>NaN</td>\n      <td>NaN</td>\n    </tr>\n    <tr>\n      <th>1</th>\n      <td>0.0</td>\n      <td>1</td>\n      <td>12</td>\n      <td>761.654031</td>\n      <td>818.04983</td>\n      <td>761.477535</td>\n      <td>818.464391</td>\n      <td>iexn12jqq</td>\n      <td>iexn12juq</td>\n      <td>178.0</td>\n      <td>178.0</td>\n      <td>100.685303</td>\n      <td>100.685303</td>\n      <td>145.2173</td>\n      <td>145.216088</td>\n      <td>NaN</td>\n      <td>NaN</td>\n    </tr>\n    <tr>\n      <th>2</th>\n      <td>0.0</td>\n      <td>1</td>\n      <td>12</td>\n      <td>760.134278</td>\n      <td>820.624555</td>\n      <td>759.949707</td>\n      <td>821.036717</td>\n      <td>iexn12jrq</td>\n      <td>iexn12jvq</td>\n      <td>178.0</td>\n      <td>178.0</td>\n      <td>100.685303</td>\n      <td>100.685303</td>\n      <td>145.217636</td>\n      <td>145.21574</td>\n      <td>NaN</td>\n      <td>NaN</td>\n    </tr>\n    <tr>\n      <th>3</th>\n      <td>0.0</td>\n      <td>1</td>\n      <td>12</td>\n      <td>756.183371</td>\n      <td>819.160424</td>\n      <td>755.988511</td>\n      <td>819.732338</td>\n      <td>iexn12jsq</td>\n      <td>iexn12jwq</td>\n      <td>178.0</td>\n      <td>178.0</td>\n      <td>100.685204</td>\n      <td>100.685204</td>\n      <td>145.217041</td>\n      <td>145.216598</td>\n      <td>NaN</td>\n      <td>NaN</td>\n    </tr>\n    <tr>\n      <th>4</th>\n      <td>1.0</td>\n      <td>1</td>\n      <td>01</td>\n      <td>760.16675</td>\n      <td>814.76482</td>\n      <td>759.860639</td>\n      <td>815.166881</td>\n      <td>iexn01oxq</td>\n      <td>iexn01p1q</td>\n      <td>178.0</td>\n      <td>178.0</td>\n      <td>97.360497</td>\n      <td>97.360497</td>\n      <td>141.896045</td>\n      <td>141.890553</td>\n      <td>NaN</td>\n      <td>NaN</td>\n    </tr>\n    <tr>\n      <th>...</th>\n      <td>...</td>\n      <td>...</td>\n      <td>...</td>\n      <td>...</td>\n      <td>...</td>\n      <td>...</td>\n      <td>...</td>\n      <td>...</td>\n      <td>...</td>\n      <td>...</td>\n      <td>...</td>\n      <td>...</td>\n      <td>...</td>\n      <td>...</td>\n      <td>...</td>\n      <td>...</td>\n      <td>...</td>\n    </tr>\n    <tr>\n      <th>203</th>\n      <td>56.0</td>\n      <td>1</td>\n      <td>59</td>\n      <td>760.651206</td>\n      <td>820.946803</td>\n      <td>760.417937</td>\n      <td>821.219986</td>\n      <td>iexn59efq</td>\n      <td>iexn59ekq</td>\n      <td>178.0</td>\n      <td>178.0</td>\n      <td>82.072319</td>\n      <td>82.072319</td>\n      <td>126.584019</td>\n      <td>126.581022</td>\n      <td>NaN</td>\n      <td>NaN</td>\n    </tr>\n    <tr>\n      <th>204</th>\n      <td>57.0</td>\n      <td>1</td>\n      <td>60</td>\n      <td>761.36228</td>\n      <td>816.845404</td>\n      <td>761.124038</td>\n      <td>817.287748</td>\n      <td>iexn60oiq</td>\n      <td>iexn60omq</td>\n      <td>178.0</td>\n      <td>178.0</td>\n      <td>82.269096</td>\n      <td>82.269096</td>\n      <td>126.769092</td>\n      <td>126.782502</td>\n      <td>NaN</td>\n      <td>NaN</td>\n    </tr>\n    <tr>\n      <th>205</th>\n      <td>57.0</td>\n      <td>1</td>\n      <td>60</td>\n      <td>765.4172</td>\n      <td>818.406052</td>\n      <td>765.226449</td>\n      <td>818.74516</td>\n      <td>iexn60ojq</td>\n      <td>iexn60onq</td>\n      <td>178.0</td>\n      <td>178.0</td>\n      <td>82.269081</td>\n      <td>82.269081</td>\n      <td>126.77062</td>\n      <td>126.780277</td>\n      <td>NaN</td>\n      <td>NaN</td>\n    </tr>\n    <tr>\n      <th>206</th>\n      <td>57.0</td>\n      <td>1</td>\n      <td>60</td>\n      <td>763.841568</td>\n      <td>820.861524</td>\n      <td>763.572052</td>\n      <td>821.280073</td>\n      <td>iexn60okq</td>\n      <td>iexn60osq</td>\n      <td>178.0</td>\n      <td>178.0</td>\n      <td>82.269073</td>\n      <td>82.269073</td>\n      <td>126.770873</td>\n      <td>126.782875</td>\n      <td>NaN</td>\n      <td>NaN</td>\n    </tr>\n    <tr>\n      <th>207</th>\n      <td>57.0</td>\n      <td>1</td>\n      <td>60</td>\n      <td>759.869457</td>\n      <td>819.409412</td>\n      <td>759.590209</td>\n      <td>819.827968</td>\n      <td>iexn60olq</td>\n      <td>iexn60otq</td>\n      <td>178.0</td>\n      <td>178.0</td>\n      <td>82.269096</td>\n      <td>82.269096</td>\n      <td>126.77593</td>\n      <td>126.781152</td>\n      <td>NaN</td>\n      <td>NaN</td>\n    </tr>\n  </tbody>\n</table>\n<p>208 rows × 17 columns</p>\n</div>"
     },
     "execution_count": 15,
     "metadata": {},
     "output_type": "execute_result"
    }
   ],
   "source": [
    "pos=0\n",
    "mvs_dataframe=pd.DataFrame(columns=['avg_ids','ext', 'visit','x_f814w','y_f814w','x_f850lp','y_f850lp','fitsroot_f814w','fitsroot_f850lp', 'exptime_f814w','exptime_f850lp', 'pav3_f814w', 'pav3_f850lp', 'rota_f814w', 'rota_f850lp','flag_f814w','flag_f850lp'])\n",
    "mvs_dataframe['flag_f814w']='rejected'\n",
    "mvs_dataframe['flag_f850lp']='rejected'\n",
    "\n",
    "for id in tqdm(mvs_target_df.avg_ids.unique()):\n",
    "    df_F814W = mvs_target_df.loc[(mvs_target_df.avg_ids==id)&(mvs_target_df.filters=='F814W')].sort_values(['unittime'])\n",
    "    df_F850LP = mvs_target_df.loc[(mvs_target_df.avg_ids==id)&(mvs_target_df.filters=='F850LP')].sort_values(['unittime'])\n",
    "    num =  df_F814W.avg_ids.count() if df_F814W.avg_ids.count() >= df_F850LP.avg_ids.count() else df_F850LP.avg_ids.count()  \n",
    "    for elno in range(num):\n",
    "        mvs_dataframe.loc[pos,'avg_ids'] = id\n",
    "        if not df_F814W.empty and elno <= df_F814W.avg_ids.count()-1:\n",
    "            mvs_dataframe.loc[pos,'ext'] = 1 if df_F814W.ccd.unique() == 2 else 4\n",
    "            mvs_dataframe.loc[pos,'visit'] = df_F814W.visit.unique()\n",
    "            mvs_dataframe.loc[pos,['x_f814w','y_f814w','fitsroot_f814w','exptime_f814w','pav3_f814w','rota_f814w']] =df_F814W.iloc[elno][['x','y','fitsroot','exptime','pav3','rota']].values\n",
    "        else:\n",
    "            mvs_dataframe.loc[pos,'ext'] = 1 if df_F850LP.ccd.unique() == 2 else 4\n",
    "            mvs_dataframe.loc[pos,'visit'] = df_F850LP.visit.unique()\n",
    "\n",
    "        if not df_F850LP.empty and elno <= df_F850LP.avg_ids.count()-1:\n",
    "            mvs_dataframe.loc[pos,['x_f850lp','y_f850lp','fitsroot_f850lp','exptime_f850lp','pav3_f850lp','rota_f850lp']] =df_F850LP.iloc[elno][['x','y','fitsroot','exptime','pav3','rota']].values\n",
    "        pos+=1\n",
    "\n",
    "mvs_dataframe"
   ],
   "metadata": {
    "collapsed": false,
    "ExecuteTime": {
     "end_time": "2024-03-13T20:51:26.124327Z",
     "start_time": "2024-03-13T20:51:25.793804Z"
    }
   },
   "id": "534c01f01a741425"
  },
  {
   "cell_type": "code",
   "outputs": [
    {
     "data": {
      "text/plain": "     avg_ids               TARGET                file           x           y  \\\n424     53.0  J042705.86+261520.3  iexn54clq_flc.fits  767.180470  807.572405   \n425     53.0  J042705.86+261520.3  iexn54cmq_flc.fits  771.256534  809.021362   \n426     53.0  J042705.86+261520.3  iexn54cnq_flc.fits  769.587923  811.441109   \n427     53.0  J042705.86+261520.3  iexn54coq_flc.fits  765.380149  810.062673   \n428     53.0  J042705.86+261520.3  iexn54cpq_flc.fits  766.576806  808.048239   \n429     53.0  J042705.86+261520.3  iexn54cqq_flc.fits  770.592753  809.541668   \n430     53.0  J042705.86+261520.3  iexn54crq_flc.fits  769.126971  811.944805   \n431     53.0  J042705.86+261520.3  iexn54csq_flc.fits  765.073439  810.511900   \n\n          dist         snr filters  unittime fitsroot  ccd visit  exptime  \\\n424  10.653130  138.444214     NaN       NaN      NaN  NaN   NaN      NaN   \n425  10.943498  153.308487     NaN       NaN      NaN  NaN   NaN      NaN   \n426   8.004255  149.754410     NaN       NaN      NaN  NaN   NaN      NaN   \n427   7.946425  148.158844     NaN       NaN      NaN  NaN   NaN      NaN   \n428  10.075905  106.078011     NaN       NaN      NaN  NaN   NaN      NaN   \n429  10.140132  110.171074     NaN       NaN      NaN  NaN   NaN      NaN   \n430   7.327842  110.900040     NaN       NaN      NaN  NaN   NaN      NaN   \n431   7.488460  109.548782     NaN       NaN      NaN  NaN   NaN      NaN   \n\n     pav3  rota  \n424   NaN   NaN  \n425   NaN   NaN  \n426   NaN   NaN  \n427   NaN   NaN  \n428   NaN   NaN  \n429   NaN   NaN  \n430   NaN   NaN  \n431   NaN   NaN  ",
      "text/html": "<div>\n<style scoped>\n    .dataframe tbody tr th:only-of-type {\n        vertical-align: middle;\n    }\n\n    .dataframe tbody tr th {\n        vertical-align: top;\n    }\n\n    .dataframe thead th {\n        text-align: right;\n    }\n</style>\n<table border=\"1\" class=\"dataframe\">\n  <thead>\n    <tr style=\"text-align: right;\">\n      <th></th>\n      <th>avg_ids</th>\n      <th>TARGET</th>\n      <th>file</th>\n      <th>x</th>\n      <th>y</th>\n      <th>dist</th>\n      <th>snr</th>\n      <th>filters</th>\n      <th>unittime</th>\n      <th>fitsroot</th>\n      <th>ccd</th>\n      <th>visit</th>\n      <th>exptime</th>\n      <th>pav3</th>\n      <th>rota</th>\n    </tr>\n  </thead>\n  <tbody>\n    <tr>\n      <th>424</th>\n      <td>53.0</td>\n      <td>J042705.86+261520.3</td>\n      <td>iexn54clq_flc.fits</td>\n      <td>767.180470</td>\n      <td>807.572405</td>\n      <td>10.653130</td>\n      <td>138.444214</td>\n      <td>NaN</td>\n      <td>NaN</td>\n      <td>NaN</td>\n      <td>NaN</td>\n      <td>NaN</td>\n      <td>NaN</td>\n      <td>NaN</td>\n      <td>NaN</td>\n    </tr>\n    <tr>\n      <th>425</th>\n      <td>53.0</td>\n      <td>J042705.86+261520.3</td>\n      <td>iexn54cmq_flc.fits</td>\n      <td>771.256534</td>\n      <td>809.021362</td>\n      <td>10.943498</td>\n      <td>153.308487</td>\n      <td>NaN</td>\n      <td>NaN</td>\n      <td>NaN</td>\n      <td>NaN</td>\n      <td>NaN</td>\n      <td>NaN</td>\n      <td>NaN</td>\n      <td>NaN</td>\n    </tr>\n    <tr>\n      <th>426</th>\n      <td>53.0</td>\n      <td>J042705.86+261520.3</td>\n      <td>iexn54cnq_flc.fits</td>\n      <td>769.587923</td>\n      <td>811.441109</td>\n      <td>8.004255</td>\n      <td>149.754410</td>\n      <td>NaN</td>\n      <td>NaN</td>\n      <td>NaN</td>\n      <td>NaN</td>\n      <td>NaN</td>\n      <td>NaN</td>\n      <td>NaN</td>\n      <td>NaN</td>\n    </tr>\n    <tr>\n      <th>427</th>\n      <td>53.0</td>\n      <td>J042705.86+261520.3</td>\n      <td>iexn54coq_flc.fits</td>\n      <td>765.380149</td>\n      <td>810.062673</td>\n      <td>7.946425</td>\n      <td>148.158844</td>\n      <td>NaN</td>\n      <td>NaN</td>\n      <td>NaN</td>\n      <td>NaN</td>\n      <td>NaN</td>\n      <td>NaN</td>\n      <td>NaN</td>\n      <td>NaN</td>\n    </tr>\n    <tr>\n      <th>428</th>\n      <td>53.0</td>\n      <td>J042705.86+261520.3</td>\n      <td>iexn54cpq_flc.fits</td>\n      <td>766.576806</td>\n      <td>808.048239</td>\n      <td>10.075905</td>\n      <td>106.078011</td>\n      <td>NaN</td>\n      <td>NaN</td>\n      <td>NaN</td>\n      <td>NaN</td>\n      <td>NaN</td>\n      <td>NaN</td>\n      <td>NaN</td>\n      <td>NaN</td>\n    </tr>\n    <tr>\n      <th>429</th>\n      <td>53.0</td>\n      <td>J042705.86+261520.3</td>\n      <td>iexn54cqq_flc.fits</td>\n      <td>770.592753</td>\n      <td>809.541668</td>\n      <td>10.140132</td>\n      <td>110.171074</td>\n      <td>NaN</td>\n      <td>NaN</td>\n      <td>NaN</td>\n      <td>NaN</td>\n      <td>NaN</td>\n      <td>NaN</td>\n      <td>NaN</td>\n      <td>NaN</td>\n    </tr>\n    <tr>\n      <th>430</th>\n      <td>53.0</td>\n      <td>J042705.86+261520.3</td>\n      <td>iexn54crq_flc.fits</td>\n      <td>769.126971</td>\n      <td>811.944805</td>\n      <td>7.327842</td>\n      <td>110.900040</td>\n      <td>NaN</td>\n      <td>NaN</td>\n      <td>NaN</td>\n      <td>NaN</td>\n      <td>NaN</td>\n      <td>NaN</td>\n      <td>NaN</td>\n      <td>NaN</td>\n    </tr>\n    <tr>\n      <th>431</th>\n      <td>53.0</td>\n      <td>J042705.86+261520.3</td>\n      <td>iexn54csq_flc.fits</td>\n      <td>765.073439</td>\n      <td>810.511900</td>\n      <td>7.488460</td>\n      <td>109.548782</td>\n      <td>NaN</td>\n      <td>NaN</td>\n      <td>NaN</td>\n      <td>NaN</td>\n      <td>NaN</td>\n      <td>NaN</td>\n      <td>NaN</td>\n      <td>NaN</td>\n    </tr>\n  </tbody>\n</table>\n</div>"
     },
     "execution_count": 19,
     "metadata": {},
     "output_type": "execute_result"
    }
   ],
   "source": [
    "mvs_target_df.loc[mvs_target_df.avg_ids.isin(avg_target_df.loc[avg_target_df.target =='J042705.86+261520.3'].avg_ids.unique())]"
   ],
   "metadata": {
    "collapsed": false,
    "ExecuteTime": {
     "end_time": "2024-03-13T21:00:51.812759Z",
     "start_time": "2024-03-13T21:00:51.780335Z"
    }
   },
   "id": "37ca8afa188715a1",
   "execution_count": 19
  },
  {
   "cell_type": "code",
   "outputs": [],
   "source": [
    "from utils_tile import small_tiles\n",
    "path2tiles='/Users/gstrampelli/PycharmProjects/Giovanni/work/out/FFP/'\n",
    "bad_F814W=[]#[124,154,178]\n",
    "good_F814W=[]#[3,14,15,25,30,48,50,71,88,90,98,116,122,126,129,142,152,153,155,156,157,158,176,177,179,180,184,185,186,187,192,196]\n",
    "\n",
    "bad_F850LP=[]#[153,157]\n",
    "good_F850LP=[]#[23,26,27,36,39,59,92,97,118,120,127,144,152,155,159,168,169,170,171,178,182,184,185,192]\n",
    "dict={'bad_F814W':bad_F814W,'bad_F850LP':bad_F850LP,'good_F814W':good_F814W,'good_F850LP':good_F850LP}\n",
    "\n",
    "\n",
    "mvs_dataframe = small_tiles(mvs_dataframe,path2fits, path2tiles, ['F814W','F850LP'], dict=dict,nrows=21, ncols=10)"
   ],
   "metadata": {
    "collapsed": false
   },
   "id": "12cb2f01d947e8a6",
   "execution_count": null
  },
  {
   "cell_type": "code",
   "execution_count": null,
   "outputs": [],
   "source": [
    "mvs_dataframe.loc[mvs_dataframe['flag_f814w'].isna(),'flag_f814w'] = 'rejected'\n",
    "mvs_dataframe.loc[mvs_dataframe['flag_f850lp'].isna(),'flag_f850lp'] = 'rejected'\n"
   ],
   "metadata": {
    "collapsed": false
   },
   "id": "132743555aef736c"
  },
  {
   "cell_type": "code",
   "execution_count": null,
   "outputs": [],
   "source": [
    "mvs_dataframe = mvs_dataframe.reset_index().rename(columns={'index':'mvs_ids'})\n",
    "mvs_dataframe['avg_ids']=mvs_dataframe.avg_ids.astype(int)\n",
    "mvs_dataframe\n"
   ],
   "metadata": {
    "collapsed": false
   },
   "id": "c714346938726541"
  },
  {
   "cell_type": "code",
   "execution_count": null,
   "outputs": [],
   "source": [
    "mvs_dataframe.to_csv('/Users/gstrampelli/PycharmProjects/Giovanni/work/database/FFP/FFP_mvs_target_photometry.csv')"
   ],
   "metadata": {
    "collapsed": false
   },
   "id": "615f2d62176b4237"
  },
  {
   "cell_type": "code",
   "execution_count": null,
   "outputs": [],
   "source": [
    "pos=0\n",
    "# avg_target_df = avg_target_df[['avg_ids','ra','dec','mag_psf','e_mag_psf']].sort_values(by='avg_ids').reset_index(drop=True)\n",
    "avg_dataframe=pd.DataFrame(columns=['avg_ids','ra', 'dec','m_f814w','e_f814w','m_f850lp','e_f850lp','type'])\n",
    "\n",
    "for id in tqdm(avg_target_df.avg_ids.unique()):\n",
    "    df_F814W = avg_target_df.loc[(avg_target_df.avg_ids==id)&(avg_target_df['filter']=='F814W')]\n",
    "    df_F850LP = avg_target_df.loc[(avg_target_df.avg_ids==id)&(avg_target_df['filter']=='F850LP')]\n",
    "    num =  df_F814W.avg_ids.count() if df_F814W.avg_ids.count() >= df_F850LP.avg_ids.count() else df_F850LP.avg_ids.count()  \n",
    "    for elno in range(num):\n",
    "        avg_dataframe.loc[pos,'avg_ids'] = id\n",
    "        if not df_F814W.empty:\n",
    "            avg_dataframe.loc[pos,'ra'] = df_F814W.ra.unique() \n",
    "            avg_dataframe.loc[pos,'dec'] = df_F814W.dec.unique()\n",
    "        elif not df_F850LP.empty:\n",
    "            avg_dataframe.loc[pos,'ra'] = df_F850LP.ra.unique() \n",
    "            avg_dataframe.loc[pos,'dec'] = df_F850LP.dec.unique()\n",
    "        avg_dataframe.loc[pos,'type'] = 1\n",
    "        if np.any(mvs_dataframe.loc[mvs_dataframe.avg_ids==id,['flag_f814w','flag_f850lp']]=='bad_target'):\n",
    "                avg_dataframe.loc[avg_dataframe.avg_ids==id,'type']=0\n",
    "        if not df_F814W.empty and elno <= df_F814W.avg_ids.count()-1:\n",
    "            avg_dataframe.loc[pos,['m_f814w','e_f814w']] =df_F814W.iloc[elno][['mag_psf','e_mag_psf']].values\n",
    "\n",
    "        if not df_F850LP.empty and elno <= df_F850LP.avg_ids.count()-1:\n",
    "            avg_dataframe.loc[pos,['m_f850lp','e_f850lp']] =df_F850LP.iloc[elno][['mag_psf','e_mag_psf']].values\n",
    "        pos+=1\n",
    "avg_dataframe['avg_ids']=avg_dataframe.avg_ids.astype(int)\n",
    "avg_dataframe"
   ],
   "metadata": {
    "collapsed": false
   },
   "id": "5d799bd42d98b448"
  },
  {
   "cell_type": "code",
   "execution_count": null,
   "outputs": [],
   "source": [
    "avg_dataframe.to_csv('/Users/gstrampelli/PycharmProjects/Giovanni/work/database/FFP/FFP_avg_target_photometry.csv')"
   ],
   "metadata": {
    "collapsed": false
   },
   "id": "6eb9eafc643cac2f"
  },
  {
   "cell_type": "code",
   "outputs": [],
   "source": [
    "avg_target_df"
   ],
   "metadata": {
    "collapsed": false
   },
   "id": "60a3cdfbe1d7b47f",
   "execution_count": null
  },
  {
   "cell_type": "code",
   "outputs": [],
   "source": [],
   "metadata": {
    "collapsed": false
   },
   "id": "dda0932540267d7d"
  }
 ],
 "metadata": {
  "kernelspec": {
   "display_name": "Python 3",
   "language": "python",
   "name": "python3"
  },
  "language_info": {
   "codemirror_mode": {
    "name": "ipython",
    "version": 2
   },
   "file_extension": ".py",
   "mimetype": "text/x-python",
   "name": "python",
   "nbconvert_exporter": "python",
   "pygments_lexer": "ipython2",
   "version": "2.7.6"
  }
 },
 "nbformat": 4,
 "nbformat_minor": 5
}
